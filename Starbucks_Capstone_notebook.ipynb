{
 "cells": [
  {
   "cell_type": "markdown",
   "metadata": {},
   "source": [
    "# Starbucks Capstone Challenge\n",
    "\n",
    "### Introduction\n",
    "\n",
    "This data set contains simulated data that mimics customer behavior on the Starbucks rewards mobile app. Once every few days, Starbucks sends out an offer to users of the mobile app. An offer can be merely an advertisement for a drink or an actual offer such as a discount or BOGO (buy one get one free). Some users might not receive any offer during certain weeks. \n",
    "\n",
    "Not all users receive the same offer, and that is the challenge to solve with this data set.\n",
    "\n",
    "Your task is to combine transaction, demographic and offer data to determine which demographic groups respond best to which offer type. This data set is a simplified version of the real Starbucks app because the underlying simulator only has one product whereas Starbucks actually sells dozens of products.\n",
    "\n",
    "Every offer has a validity period before the offer expires. As an example, a BOGO offer might be valid for only 5 days. You'll see in the data set that informational offers have a validity period even though these ads are merely providing information about a product; for example, if an informational offer has 7 days of validity, you can assume the customer is feeling the influence of the offer for 7 days after receiving the advertisement.\n",
    "\n",
    "You'll be given transactional data showing user purchases made on the app including the timestamp of purchase and the amount of money spent on a purchase. This transactional data also has a record for each offer that a user receives as well as a record for when a user actually views the offer. There are also records for when a user completes an offer. \n",
    "\n",
    "Keep in mind as well that someone using the app might make a purchase through the app without having received an offer or seen an offer.\n",
    "\n",
    "### Example\n",
    "\n",
    "To give an example, a user could receive a discount offer buy 10 dollars get 2 off on Monday. The offer is valid for 10 days from receipt. If the customer accumulates at least 10 dollars in purchases during the validity period, the customer completes the offer.\n",
    "\n",
    "However, there are a few things to watch out for in this data set. Customers do not opt into the offers that they receive; in other words, a user can receive an offer, never actually view the offer, and still complete the offer. For example, a user might receive the \"buy 10 dollars get 2 dollars off offer\", but the user never opens the offer during the 10 day validity period. The customer spends 15 dollars during those ten days. There will be an offer completion record in the data set; however, the customer was not influenced by the offer because the customer never viewed the offer.\n",
    "\n",
    "### Cleaning\n",
    "\n",
    "This makes data cleaning especially important and tricky.\n",
    "\n",
    "You'll also want to take into account that some demographic groups will make purchases even if they don't receive an offer. From a business perspective, if a customer is going to make a 10 dollar purchase without an offer anyway, you wouldn't want to send a buy 10 dollars get 2 dollars off offer. You'll want to try to assess what a certain demographic group will buy when not receiving any offers.\n",
    "\n",
    "### Final Advice\n",
    "\n",
    "Because this is a capstone project, you are free to analyze the data any way you see fit. For example, you could build a machine learning model that predicts how much someone will spend based on demographics and offer type. Or you could build a model that predicts whether or not someone will respond to an offer. Or, you don't need to build a machine learning model at all. You could develop a set of heuristics that determine what offer you should send to each customer (i.e., 75 percent of women customers who were 35 years old responded to offer A vs 40 percent from the same demographic to offer B, so send offer A)."
   ]
  },
  {
   "cell_type": "markdown",
   "metadata": {},
   "source": [
    "# Data Sets\n",
    "\n",
    "The data is contained in three files:\n",
    "\n",
    "* portfolio.json - containing offer ids and meta data about each offer (duration, type, etc.)\n",
    "* profile.json - demographic data for each customer\n",
    "* transcript.json - records for transactions, offers received, offers viewed, and offers completed\n",
    "\n",
    "Here is the schema and explanation of each variable in the files:\n",
    "\n",
    "**portfolio.json**\n",
    "* id (string) - offer id\n",
    "* offer_type (string) - type of offer ie BOGO, discount, informational\n",
    "* difficulty (int) - minimum required spend to complete an offer\n",
    "* reward (int) - reward given for completing an offer\n",
    "* duration (int) - time for offer to be open, in days\n",
    "* channels (list of strings)\n",
    "\n",
    "**profile.json**\n",
    "* age (int) - age of the customer \n",
    "* became_member_on (int) - date when customer created an app account\n",
    "* gender (str) - gender of the customer (note some entries contain 'O' for other rather than M or F)\n",
    "* id (str) - customer id\n",
    "* income (float) - customer's income\n",
    "\n",
    "**transcript.json**\n",
    "* event (str) - record description (ie transaction, offer received, offer viewed, etc.)\n",
    "* person (str) - customer id\n",
    "* time (int) - time in hours since start of test. The data begins at time t=0\n",
    "* value - (dict of strings) - either an offer id or transaction amount depending on the record\n",
    "\n",
    "**Note:** If you are using the workspace, you will need to go to the terminal and run the command `conda update pandas` before reading in the files. This is because the version of pandas in the workspace cannot read in the transcript.json file correctly, but the newest version of pandas can. You can access the termnal from the orange icon in the top left of this notebook.  \n",
    "\n",
    "You can see how to access the terminal and how the install works using the two images below.  First you need to access the terminal:\n",
    "\n",
    "<img src=\"pic1.png\"/>\n",
    "\n",
    "Then you will want to run the above command:\n",
    "\n",
    "<img src=\"pic2.png\"/>\n",
    "\n",
    "Finally, when you enter back into the notebook (use the jupyter icon again), you should be able to run the below cell without any errors."
   ]
  },
  {
   "cell_type": "code",
   "execution_count": 1,
   "metadata": {},
   "outputs": [],
   "source": [
    "import pandas as pd\n",
    "import numpy as np\n",
    "import math\n",
    "import json\n",
    "import matplotlib.pyplot as plt\n",
    "import seaborn as sns\n",
    "% matplotlib inline\n",
    "import datetime as dt\n",
    "from sklearn.model_selection import train_test_split\n",
    "\n",
    "# read in the json files\n",
    "portfolio = pd.read_json('data/portfolio.json', orient='records', lines=True)\n",
    "profile = pd.read_json('data/profile.json', orient='records', lines=True)\n",
    "transcript = pd.read_json('data/transcript.json', orient='records', lines=True)"
   ]
  },
  {
   "cell_type": "markdown",
   "metadata": {},
   "source": [
    "# Explore data"
   ]
  },
  {
   "cell_type": "markdown",
   "metadata": {},
   "source": [
    "### porfolio data"
   ]
  },
  {
   "cell_type": "code",
   "execution_count": 2,
   "metadata": {},
   "outputs": [
    {
     "name": "stdout",
     "output_type": "stream",
     "text": [
      "                       channels  difficulty  duration  \\\n",
      "0       [email, mobile, social]          10         7   \n",
      "1  [web, email, mobile, social]          10         5   \n",
      "2          [web, email, mobile]           0         4   \n",
      "3          [web, email, mobile]           5         7   \n",
      "4                  [web, email]          20        10   \n",
      "5  [web, email, mobile, social]           7         7   \n",
      "6  [web, email, mobile, social]          10        10   \n",
      "7       [email, mobile, social]           0         3   \n",
      "8  [web, email, mobile, social]           5         5   \n",
      "9          [web, email, mobile]          10         7   \n",
      "\n",
      "                                 id     offer_type  reward  \n",
      "0  ae264e3637204a6fb9bb56bc8210ddfd           bogo      10  \n",
      "1  4d5c57ea9a6940dd891ad53e9dbe8da0           bogo      10  \n",
      "2  3f207df678b143eea3cee63160fa8bed  informational       0  \n",
      "3  9b98b8c7a33c4b65b9aebfe6a799e6d9           bogo       5  \n",
      "4  0b1e1539f2cc45b7b9fa7c272da2e1d7       discount       5  \n",
      "5  2298d6c36e964ae4a3e7e9706d1fb8c2       discount       3  \n",
      "6  fafdcd668e3743c1bb461111dcafc2a4       discount       2  \n",
      "7  5a8bc65990b245e5a138643cd4eb9837  informational       0  \n",
      "8  f19421c1d4aa40978ebb69ca19b0e20d           bogo       5  \n",
      "9  2906b810c7d4411798c6938adc9daaa5       discount       2  \n",
      "\n",
      "<class 'pandas.core.frame.DataFrame'>\n",
      "RangeIndex: 10 entries, 0 to 9\n",
      "Data columns (total 6 columns):\n",
      "channels      10 non-null object\n",
      "difficulty    10 non-null int64\n",
      "duration      10 non-null int64\n",
      "id            10 non-null object\n",
      "offer_type    10 non-null object\n",
      "reward        10 non-null int64\n",
      "dtypes: int64(3), object(3)\n",
      "memory usage: 560.0+ bytes\n",
      "None\n",
      "\n",
      "       difficulty   duration     reward\n",
      "count   10.000000  10.000000  10.000000\n",
      "mean     7.700000   6.500000   4.200000\n",
      "std      5.831905   2.321398   3.583915\n",
      "min      0.000000   3.000000   0.000000\n",
      "25%      5.000000   5.000000   2.000000\n",
      "50%      8.500000   7.000000   4.000000\n",
      "75%     10.000000   7.000000   5.000000\n",
      "max     20.000000  10.000000  10.000000\n"
     ]
    }
   ],
   "source": [
    "print(portfolio)\n",
    "print(\"\")\n",
    "print(portfolio.info())\n",
    "print(\"\")\n",
    "print(portfolio.describe())"
   ]
  },
  {
   "cell_type": "code",
   "execution_count": 3,
   "metadata": {},
   "outputs": [
    {
     "data": {
      "text/plain": [
       "0"
      ]
     },
     "execution_count": 3,
     "metadata": {},
     "output_type": "execute_result"
    }
   ],
   "source": [
    "# check for duplicates\n",
    "sum(portfolio.id.duplicated())"
   ]
  },
  {
   "cell_type": "code",
   "execution_count": 4,
   "metadata": {},
   "outputs": [
    {
     "data": {
      "image/png": "[encoded data removed]",
      "text/plain": [
       "<Figure size 432x288 with 1 Axes>"
      ]
     },
     "metadata": {
      "needs_background": "light"
     },
     "output_type": "display_data"
    }
   ],
   "source": [
    "sns.scatterplot(data=portfolio, x=\"difficulty\", y=\"reward\", hue=\"offer_type\", s=200);\n",
    "plt.xlabel('Difficulty');\n",
    "plt.ylabel('Reward');\n",
    "plt.title(\"Difficulty vs. Reward by Offer Type\");\n",
    "plt.xticks(np.arange(0, 20, 4));"
   ]
  },
  {
   "cell_type": "code",
   "execution_count": 5,
   "metadata": {},
   "outputs": [
    {
     "data": {
      "image/png": "[encoded data removed]",
      "text/plain": [
       "<Figure size 432x288 with 1 Axes>"
      ]
     },
     "metadata": {
      "needs_background": "light"
     },
     "output_type": "display_data"
    }
   ],
   "source": [
    "sns.scatterplot(data=portfolio, x=\"duration\", y=\"reward\", hue=\"offer_type\", s=200);\n",
    "plt.xlabel('Duration');\n",
    "plt.ylabel('Reward');\n",
    "plt.title(\"Duration vs. Reward by Offer Type\");\n",
    "plt.xticks(np.arange(0, 10, 2));"
   ]
  },
  {
   "cell_type": "code",
   "execution_count": 6,
   "metadata": {},
   "outputs": [
    {
     "data": {
      "image/png": "[encoded data removed]",
      "text/plain": [
       "<Figure size 432x288 with 1 Axes>"
      ]
     },
     "metadata": {
      "needs_background": "light"
     },
     "output_type": "display_data"
    }
   ],
   "source": [
    "sns.scatterplot(data=portfolio, x=\"difficulty\", y=\"duration\", hue=\"offer_type\", s=200);\n",
    "plt.xlabel('Difficulty');\n",
    "plt.ylabel('Duration');\n",
    "plt.title(\"Difficulty vs. Duration by Offer Type\");\n",
    "plt.xticks(np.arange(0, 20, 4));"
   ]
  },
  {
   "cell_type": "markdown",
   "metadata": {},
   "source": [
    "### profile data"
   ]
  },
  {
   "cell_type": "code",
   "execution_count": 7,
   "metadata": {},
   "outputs": [
    {
     "name": "stdout",
     "output_type": "stream",
     "text": [
      "   age  became_member_on gender                                id    income\n",
      "0  118          20170212   None  68be06ca386d4c31939f3a4f0e3dd783       NaN\n",
      "1   55          20170715      F  0610b486422d4921ae7d2bf64640c50b  112000.0\n",
      "2  118          20180712   None  38fe809add3b4fcf9315a9694bb96ff5       NaN\n",
      "3   75          20170509      F  78afa995795e4d85b5d9ceeca43f5fef  100000.0\n",
      "4  118          20170804   None  a03223e636434f42ac4c3df47e8bac43       NaN\n",
      "\n",
      "<class 'pandas.core.frame.DataFrame'>\n",
      "RangeIndex: 17000 entries, 0 to 16999\n",
      "Data columns (total 5 columns):\n",
      "age                 17000 non-null int64\n",
      "became_member_on    17000 non-null int64\n",
      "gender              14825 non-null object\n",
      "id                  17000 non-null object\n",
      "income              14825 non-null float64\n",
      "dtypes: float64(1), int64(2), object(2)\n",
      "memory usage: 664.1+ KB\n",
      "None\n",
      "\n",
      "                age  became_member_on         income\n",
      "count  17000.000000      1.700000e+04   14825.000000\n",
      "mean      62.531412      2.016703e+07   65404.991568\n",
      "std       26.738580      1.167750e+04   21598.299410\n",
      "min       18.000000      2.013073e+07   30000.000000\n",
      "25%       45.000000      2.016053e+07   49000.000000\n",
      "50%       58.000000      2.017080e+07   64000.000000\n",
      "75%       73.000000      2.017123e+07   80000.000000\n",
      "max      118.000000      2.018073e+07  120000.000000\n"
     ]
    }
   ],
   "source": [
    "print(profile.head())\n",
    "print(\"\")\n",
    "print(profile.info())\n",
    "print(\"\")\n",
    "print(profile.describe())"
   ]
  },
  {
   "cell_type": "code",
   "execution_count": 8,
   "metadata": {},
   "outputs": [
    {
     "data": {
      "text/plain": [
       "0"
      ]
     },
     "execution_count": 8,
     "metadata": {},
     "output_type": "execute_result"
    }
   ],
   "source": [
    "# Do we have any duplicated users?\n",
    "sum(profile.id.duplicated())"
   ]
  },
  {
   "cell_type": "code",
   "execution_count": 9,
   "metadata": {},
   "outputs": [
    {
     "data": {
      "image/png": "[encoded data removed]",
      "text/plain": [
       "<Figure size 360x360 with 1 Axes>"
      ]
     },
     "metadata": {},
     "output_type": "display_data"
    }
   ],
   "source": [
    "# Gender  \n",
    "labels = ['Male', 'Female', 'Other']\n",
    "ax = profile['gender'].value_counts().plot(kind='pie', figsize=(5, 5), autopct='%1.0f%%',labels=labels,title=\"Gender\");\n",
    "ax.yaxis.set_visible(False)"
   ]
  },
  {
   "cell_type": "code",
   "execution_count": 101,
   "metadata": {},
   "outputs": [
    {
     "name": "stderr",
     "output_type": "stream",
     "text": [
      "/opt/conda/lib/python3.6/site-packages/seaborn/distributions.py:2619: FutureWarning: `distplot` is a deprecated function and will be removed in a future version. Please adapt your code to use either `displot` (a figure-level function with similar flexibility) or `kdeplot` (an axes-level function for kernel density plots).\n",
      "  warnings.warn(msg, FutureWarning)\n",
      "/opt/conda/lib/python3.6/site-packages/seaborn/distributions.py:2619: FutureWarning: `distplot` is a deprecated function and will be removed in a future version. Please adapt your code to use either `displot` (a figure-level function with similar flexibility) or `kdeplot` (an axes-level function for kernel density plots).\n",
      "  warnings.warn(msg, FutureWarning)\n"
     ]
    },
    {
     "data": {
      "image/png": "[encoded data removed]",
      "text/plain": [
       "<Figure size 432x288 with 1 Axes>"
      ]
     },
     "metadata": {},
     "output_type": "display_data"
    }
   ],
   "source": [
    "# Gender by age (remove 118 as proxy for no value)\n",
    "sns.distplot(profile[(profile.gender=='M') & (profile.age < 118)].age,label='Male',hist=False)\n",
    "sns.distplot(profile[(profile.gender=='F') & (profile.age < 118)].age,label='Female', hist=False)\n",
    "male_mean = np.mean(profile[(profile.gender=='M') & (profile.age < 118)].age)\n",
    "female_mean = np.mean(profile[(profile.gender=='F') & (profile.age < 118)].age)\n",
    "plt.plot([male_mean, male_mean], [0, .03],label = 'Male (mean)',linestyle=\"dashed\",color=\"cornflowerblue\")\n",
    "plt.plot([female_mean, female_mean], [0, 0.03],label = 'Female (mean)',linestyle=\"dashed\",color=\"orange\")\n",
    "plt.legend()\n",
    "plt.show()"
   ]
  },
  {
   "cell_type": "code",
   "execution_count": 102,
   "metadata": {},
   "outputs": [
    {
     "name": "stdout",
     "output_type": "stream",
     "text": [
      "Male mean: 52.11669024045262\n",
      "Female mean: 57.54495023658019\n"
     ]
    }
   ],
   "source": [
    "print(\"Male mean:\", male_mean)\n",
    "print(\"Female mean:\", female_mean)"
   ]
  },
  {
   "cell_type": "code",
   "execution_count": 11,
   "metadata": {
    "scrolled": true
   },
   "outputs": [
    {
     "data": {
      "text/plain": [
       "0.0020460305126646936"
      ]
     },
     "execution_count": 11,
     "metadata": {},
     "output_type": "execute_result"
    }
   ],
   "source": [
    "# Check how many customers we have that did not provide their age (in percentage)\n",
    "sum(profile.age == 118)/sum(profile.age)"
   ]
  },
  {
   "cell_type": "code",
   "execution_count": 12,
   "metadata": {},
   "outputs": [
    {
     "name": "stderr",
     "output_type": "stream",
     "text": [
      "/opt/conda/lib/python3.6/site-packages/seaborn/distributions.py:2619: FutureWarning: `distplot` is a deprecated function and will be removed in a future version. Please adapt your code to use either `displot` (a figure-level function with similar flexibility) or `kdeplot` (an axes-level function for kernel density plots).\n",
      "  warnings.warn(msg, FutureWarning)\n",
      "/opt/conda/lib/python3.6/site-packages/seaborn/distributions.py:2619: FutureWarning: `distplot` is a deprecated function and will be removed in a future version. Please adapt your code to use either `displot` (a figure-level function with similar flexibility) or `kdeplot` (an axes-level function for kernel density plots).\n",
      "  warnings.warn(msg, FutureWarning)\n"
     ]
    },
    {
     "data": {
      "image/png": "[encoded data removed]",
      "text/plain": [
       "<Figure size 432x288 with 1 Axes>"
      ]
     },
     "metadata": {
      "needs_background": "light"
     },
     "output_type": "display_data"
    }
   ],
   "source": [
    "# Income distribution by gender\n",
    "sns.distplot(profile[profile.gender=='M'].income,label='Male',hist=False)\n",
    "sns.distplot(profile[profile.gender=='F'].income,label='Female', hist=False)\n",
    "male_mean = np.mean(profile[profile.gender=='M'].income)\n",
    "female_mean = np.mean(profile[profile.gender=='F'].income)\n",
    "plt.plot([male_mean, male_mean], [0, 0.00002],label = 'Male (mean)',linestyle=\"dashed\",color=\"cornflowerblue\")\n",
    "plt.plot([female_mean, female_mean], [0, 0.00002],label = 'Female (mean)',linestyle=\"dashed\",color=\"orange\")\n",
    "plt.legend()\n",
    "plt.show()"
   ]
  },
  {
   "cell_type": "code",
   "execution_count": 13,
   "metadata": {},
   "outputs": [
    {
     "data": {
      "image/png": "[encoded data removed]",
      "text/plain": [
       "<Figure size 432x288 with 1 Axes>"
      ]
     },
     "metadata": {
      "needs_background": "light"
     },
     "output_type": "display_data"
    }
   ],
   "source": [
    "# When did the members sign up\n",
    "pd.to_datetime(profile.became_member_on.astype(str), format='%Y%m%d').hist();\n",
    "plt.title('Start of Membership');\n",
    "plt.ylabel(\"number of users\");"
   ]
  },
  {
   "cell_type": "code",
   "execution_count": 14,
   "metadata": {},
   "outputs": [
    {
     "name": "stdout",
     "output_type": "stream",
     "text": [
      "first membership:  2013-07-29 00:00:00\n",
      "most recent membership:  2018-07-26 00:00:00\n"
     ]
    }
   ],
   "source": [
    "print(\"first membership: \",min(pd.to_datetime(profile.became_member_on.astype(str), format='%Y%m%d')))\n",
    "print(\"most recent membership: \",max(pd.to_datetime(profile.became_member_on.astype(str), format='%Y%m%d')))"
   ]
  },
  {
   "cell_type": "markdown",
   "metadata": {},
   "source": [
    "### transcript data"
   ]
  },
  {
   "cell_type": "code",
   "execution_count": 15,
   "metadata": {},
   "outputs": [
    {
     "name": "stdout",
     "output_type": "stream",
     "text": [
      "            event                            person  time  \\\n",
      "0  offer received  78afa995795e4d85b5d9ceeca43f5fef     0   \n",
      "1  offer received  a03223e636434f42ac4c3df47e8bac43     0   \n",
      "2  offer received  e2127556f4f64592b11af22de27a7932     0   \n",
      "3  offer received  8ec6ce2a7e7949b1bf142def7d0e0586     0   \n",
      "4  offer received  68617ca6246f4fbc85e91a2a49552598     0   \n",
      "\n",
      "                                              value  \n",
      "0  {'offer id': '9b98b8c7a33c4b65b9aebfe6a799e6d9'}  \n",
      "1  {'offer id': '0b1e1539f2cc45b7b9fa7c272da2e1d7'}  \n",
      "2  {'offer id': '2906b810c7d4411798c6938adc9daaa5'}  \n",
      "3  {'offer id': 'fafdcd668e3743c1bb461111dcafc2a4'}  \n",
      "4  {'offer id': '4d5c57ea9a6940dd891ad53e9dbe8da0'}  \n",
      "\n",
      "<class 'pandas.core.frame.DataFrame'>\n",
      "RangeIndex: 306534 entries, 0 to 306533\n",
      "Data columns (total 4 columns):\n",
      "event     306534 non-null object\n",
      "person    306534 non-null object\n",
      "time      306534 non-null int64\n",
      "value     306534 non-null object\n",
      "dtypes: int64(1), object(3)\n",
      "memory usage: 9.4+ MB\n",
      "None\n",
      "\n",
      "                time\n",
      "count  306534.000000\n",
      "mean      366.382940\n",
      "std       200.326314\n",
      "min         0.000000\n",
      "25%       186.000000\n",
      "50%       408.000000\n",
      "75%       528.000000\n",
      "max       714.000000\n"
     ]
    }
   ],
   "source": [
    "print(transcript.head())\n",
    "print(\"\")\n",
    "print(transcript.info())\n",
    "print(\"\")\n",
    "print(transcript.describe())"
   ]
  },
  {
   "cell_type": "code",
   "execution_count": 16,
   "metadata": {},
   "outputs": [
    {
     "name": "stdout",
     "output_type": "stream",
     "text": [
      "event     0\n",
      "person    0\n",
      "time      0\n",
      "value     0\n",
      "dtype: int64\n",
      "\n",
      "event     0\n",
      "person    0\n",
      "time      0\n",
      "value     0\n",
      "dtype: int64\n"
     ]
    }
   ],
   "source": [
    "# check for null or NaN values\n",
    "print(transcript.isnull().sum())\n",
    "print(\"\")\n",
    "print(transcript.isna().sum())"
   ]
  },
  {
   "cell_type": "code",
   "execution_count": 17,
   "metadata": {},
   "outputs": [
    {
     "data": {
      "text/plain": [
       "event\n",
       "offer completed     33579\n",
       "offer received      76277\n",
       "offer viewed        57725\n",
       "transaction        138953\n",
       "Name: person, dtype: int64"
      ]
     },
     "execution_count": 17,
     "metadata": {},
     "output_type": "execute_result"
    }
   ],
   "source": [
    "transcript.groupby([\"event\"])[\"person\"].count()"
   ]
  },
  {
   "cell_type": "code",
   "execution_count": 18,
   "metadata": {},
   "outputs": [
    {
     "data": {
      "text/plain": [
       "306534"
      ]
     },
     "execution_count": 18,
     "metadata": {},
     "output_type": "execute_result"
    }
   ],
   "source": [
    "transcript.shape[0]"
   ]
  },
  {
   "cell_type": "markdown",
   "metadata": {},
   "source": [
    "# Clean data"
   ]
  },
  {
   "cell_type": "code",
   "execution_count": 19,
   "metadata": {},
   "outputs": [],
   "source": [
    "# First, lets make copies and not change the raw data\n",
    "portfolio_df = portfolio.copy()\n",
    "profile_df = profile.copy()\n",
    "transcript_df = transcript.copy()"
   ]
  },
  {
   "cell_type": "code",
   "execution_count": 20,
   "metadata": {},
   "outputs": [],
   "source": [
    "# remove fraction of customers that did not provide their age (fraction was << 1%, see above)\n",
    "profile_df = profile_df[profile_df.age<118]"
   ]
  },
  {
   "cell_type": "code",
   "execution_count": 21,
   "metadata": {},
   "outputs": [
    {
     "data": {
      "text/html": [
       "<div>\n",
       "<style scoped>\n",
       "    .dataframe tbody tr th:only-of-type {\n",
       "        vertical-align: middle;\n",
       "    }\n",
       "\n",
       "    .dataframe tbody tr th {\n",
       "        vertical-align: top;\n",
       "    }\n",
       "\n",
       "    .dataframe thead th {\n",
       "        text-align: right;\n",
       "    }\n",
       "</style>\n",
       "<table border=\"1\" class=\"dataframe\">\n",
       "  <thead>\n",
       "    <tr style=\"text-align: right;\">\n",
       "      <th></th>\n",
       "      <th>age</th>\n",
       "      <th>became_member_on</th>\n",
       "      <th>gender</th>\n",
       "      <th>id</th>\n",
       "      <th>income</th>\n",
       "    </tr>\n",
       "  </thead>\n",
       "  <tbody>\n",
       "    <tr>\n",
       "      <th>1</th>\n",
       "      <td>55</td>\n",
       "      <td>2017-07-15</td>\n",
       "      <td>F</td>\n",
       "      <td>0610b486422d4921ae7d2bf64640c50b</td>\n",
       "      <td>112000.0</td>\n",
       "    </tr>\n",
       "    <tr>\n",
       "      <th>3</th>\n",
       "      <td>75</td>\n",
       "      <td>2017-05-09</td>\n",
       "      <td>F</td>\n",
       "      <td>78afa995795e4d85b5d9ceeca43f5fef</td>\n",
       "      <td>100000.0</td>\n",
       "    </tr>\n",
       "    <tr>\n",
       "      <th>5</th>\n",
       "      <td>68</td>\n",
       "      <td>2018-04-26</td>\n",
       "      <td>M</td>\n",
       "      <td>e2127556f4f64592b11af22de27a7932</td>\n",
       "      <td>70000.0</td>\n",
       "    </tr>\n",
       "    <tr>\n",
       "      <th>8</th>\n",
       "      <td>65</td>\n",
       "      <td>2018-02-09</td>\n",
       "      <td>M</td>\n",
       "      <td>389bc3fa690240e798340f5a15918d5c</td>\n",
       "      <td>53000.0</td>\n",
       "    </tr>\n",
       "    <tr>\n",
       "      <th>12</th>\n",
       "      <td>58</td>\n",
       "      <td>2017-11-11</td>\n",
       "      <td>M</td>\n",
       "      <td>2eeac8d8feae4a8cad5a6af0499a211d</td>\n",
       "      <td>51000.0</td>\n",
       "    </tr>\n",
       "  </tbody>\n",
       "</table>\n",
       "</div>"
      ],
      "text/plain": [
       "    age became_member_on gender                                id    income\n",
       "1    55       2017-07-15      F  0610b486422d4921ae7d2bf64640c50b  112000.0\n",
       "3    75       2017-05-09      F  78afa995795e4d85b5d9ceeca43f5fef  100000.0\n",
       "5    68       2018-04-26      M  e2127556f4f64592b11af22de27a7932   70000.0\n",
       "8    65       2018-02-09      M  389bc3fa690240e798340f5a15918d5c   53000.0\n",
       "12   58       2017-11-11      M  2eeac8d8feae4a8cad5a6af0499a211d   51000.0"
      ]
     },
     "execution_count": 21,
     "metadata": {},
     "output_type": "execute_result"
    }
   ],
   "source": [
    "# convert dates into date object\n",
    "profile_df.became_member_on = pd.to_datetime(profile_df.became_member_on.astype(str), format='%Y%m%d').dt.date\n",
    "profile_df.head()"
   ]
  },
  {
   "cell_type": "code",
   "execution_count": 22,
   "metadata": {},
   "outputs": [],
   "source": [
    "today = dt.datetime(2022,12,21)\n",
    "profile_df[\"member_since\"] = (today - pd.to_datetime(profile_df.became_member_on)).dt.days # in days\n",
    "profile_df.drop(columns=[\"became_member_on\"], inplace=True)"
   ]
  },
  {
   "cell_type": "code",
   "execution_count": 23,
   "metadata": {},
   "outputs": [],
   "source": [
    "# change days into hrs, also to be consistent with \"time\" below\n",
    "portfolio_df.duration = portfolio_df.duration * 24"
   ]
  },
  {
   "cell_type": "code",
   "execution_count": 24,
   "metadata": {},
   "outputs": [],
   "source": [
    "# rename cols (to avoid any confusion)\n",
    "portfolio_df.rename(columns={\"id\": \"id_offer\"}, inplace = True)\n",
    "profile_df.rename(columns={\"id\": \"id_customer\"}, inplace = True)"
   ]
  },
  {
   "cell_type": "code",
   "execution_count": 25,
   "metadata": {},
   "outputs": [],
   "source": [
    "# read values from value col in transcript df\n",
    "transcript_df = pd.concat([transcript_df, transcript_df['value'].apply(pd.Series)], axis=1)"
   ]
  },
  {
   "cell_type": "code",
   "execution_count": 26,
   "metadata": {},
   "outputs": [
    {
     "data": {
      "text/html": [
       "<div>\n",
       "<style scoped>\n",
       "    .dataframe tbody tr th:only-of-type {\n",
       "        vertical-align: middle;\n",
       "    }\n",
       "\n",
       "    .dataframe tbody tr th {\n",
       "        vertical-align: top;\n",
       "    }\n",
       "\n",
       "    .dataframe thead th {\n",
       "        text-align: right;\n",
       "    }\n",
       "</style>\n",
       "<table border=\"1\" class=\"dataframe\">\n",
       "  <thead>\n",
       "    <tr style=\"text-align: right;\">\n",
       "      <th></th>\n",
       "      <th>event</th>\n",
       "      <th>person</th>\n",
       "      <th>time</th>\n",
       "      <th>value</th>\n",
       "      <th>offer id</th>\n",
       "      <th>amount</th>\n",
       "      <th>offer_id</th>\n",
       "      <th>reward</th>\n",
       "    </tr>\n",
       "  </thead>\n",
       "  <tbody>\n",
       "    <tr>\n",
       "      <th>11540</th>\n",
       "      <td>offer received</td>\n",
       "      <td>408c1015bbf04d6b975f374c00f69dcd</td>\n",
       "      <td>0</td>\n",
       "      <td>{'offer id': '2298d6c36e964ae4a3e7e9706d1fb8c2'}</td>\n",
       "      <td>2298d6c36e964ae4a3e7e9706d1fb8c2</td>\n",
       "      <td>NaN</td>\n",
       "      <td>NaN</td>\n",
       "      <td>NaN</td>\n",
       "    </tr>\n",
       "    <tr>\n",
       "      <th>263215</th>\n",
       "      <td>offer completed</td>\n",
       "      <td>a551a070a9484cd69ca431f79b98f056</td>\n",
       "      <td>582</td>\n",
       "      <td>{'offer_id': 'f19421c1d4aa40978ebb69ca19b0e20d...</td>\n",
       "      <td>NaN</td>\n",
       "      <td>NaN</td>\n",
       "      <td>f19421c1d4aa40978ebb69ca19b0e20d</td>\n",
       "      <td>5.0</td>\n",
       "    </tr>\n",
       "    <tr>\n",
       "      <th>149551</th>\n",
       "      <td>transaction</td>\n",
       "      <td>0561e602225b441aac45ff6e5bb74037</td>\n",
       "      <td>402</td>\n",
       "      <td>{'amount': 4.52}</td>\n",
       "      <td>NaN</td>\n",
       "      <td>4.52</td>\n",
       "      <td>NaN</td>\n",
       "      <td>NaN</td>\n",
       "    </tr>\n",
       "    <tr>\n",
       "      <th>231386</th>\n",
       "      <td>transaction</td>\n",
       "      <td>72b40f47cf284501b0f32c6ec0bfd069</td>\n",
       "      <td>534</td>\n",
       "      <td>{'amount': 1.99}</td>\n",
       "      <td>NaN</td>\n",
       "      <td>1.99</td>\n",
       "      <td>NaN</td>\n",
       "      <td>NaN</td>\n",
       "    </tr>\n",
       "    <tr>\n",
       "      <th>197546</th>\n",
       "      <td>transaction</td>\n",
       "      <td>967e2f8cabb948e1944f7472b2ca92f7</td>\n",
       "      <td>486</td>\n",
       "      <td>{'amount': 16.16}</td>\n",
       "      <td>NaN</td>\n",
       "      <td>16.16</td>\n",
       "      <td>NaN</td>\n",
       "      <td>NaN</td>\n",
       "    </tr>\n",
       "  </tbody>\n",
       "</table>\n",
       "</div>"
      ],
      "text/plain": [
       "                  event                            person  time  \\\n",
       "11540    offer received  408c1015bbf04d6b975f374c00f69dcd     0   \n",
       "263215  offer completed  a551a070a9484cd69ca431f79b98f056   582   \n",
       "149551      transaction  0561e602225b441aac45ff6e5bb74037   402   \n",
       "231386      transaction  72b40f47cf284501b0f32c6ec0bfd069   534   \n",
       "197546      transaction  967e2f8cabb948e1944f7472b2ca92f7   486   \n",
       "\n",
       "                                                    value  \\\n",
       "11540    {'offer id': '2298d6c36e964ae4a3e7e9706d1fb8c2'}   \n",
       "263215  {'offer_id': 'f19421c1d4aa40978ebb69ca19b0e20d...   \n",
       "149551                                   {'amount': 4.52}   \n",
       "231386                                   {'amount': 1.99}   \n",
       "197546                                  {'amount': 16.16}   \n",
       "\n",
       "                                offer id  amount  \\\n",
       "11540   2298d6c36e964ae4a3e7e9706d1fb8c2     NaN   \n",
       "263215                               NaN     NaN   \n",
       "149551                               NaN    4.52   \n",
       "231386                               NaN    1.99   \n",
       "197546                               NaN   16.16   \n",
       "\n",
       "                                offer_id  reward  \n",
       "11540                                NaN     NaN  \n",
       "263215  f19421c1d4aa40978ebb69ca19b0e20d     5.0  \n",
       "149551                               NaN     NaN  \n",
       "231386                               NaN     NaN  \n",
       "197546                               NaN     NaN  "
      ]
     },
     "execution_count": 26,
     "metadata": {},
     "output_type": "execute_result"
    }
   ],
   "source": [
    "# check outcome\n",
    "transcript_df.sample(5)"
   ]
  },
  {
   "cell_type": "code",
   "execution_count": 27,
   "metadata": {},
   "outputs": [
    {
     "data": {
      "text/html": [
       "<div>\n",
       "<style scoped>\n",
       "    .dataframe tbody tr th:only-of-type {\n",
       "        vertical-align: middle;\n",
       "    }\n",
       "\n",
       "    .dataframe tbody tr th {\n",
       "        vertical-align: top;\n",
       "    }\n",
       "\n",
       "    .dataframe thead th {\n",
       "        text-align: right;\n",
       "    }\n",
       "</style>\n",
       "<table border=\"1\" class=\"dataframe\">\n",
       "  <thead>\n",
       "    <tr style=\"text-align: right;\">\n",
       "      <th></th>\n",
       "      <th>event</th>\n",
       "      <th>person</th>\n",
       "      <th>time</th>\n",
       "      <th>amount</th>\n",
       "      <th>reward</th>\n",
       "      <th>id_offer</th>\n",
       "    </tr>\n",
       "  </thead>\n",
       "  <tbody>\n",
       "    <tr>\n",
       "      <th>305311</th>\n",
       "      <td>transaction</td>\n",
       "      <td>ebc303bcc1b44aa6b4d1762960451468</td>\n",
       "      <td>708</td>\n",
       "      <td>12.52</td>\n",
       "      <td>NaN</td>\n",
       "      <td>NaN</td>\n",
       "    </tr>\n",
       "    <tr>\n",
       "      <th>82460</th>\n",
       "      <td>transaction</td>\n",
       "      <td>17056c2cfb384ba1aae130fe0044fe79</td>\n",
       "      <td>204</td>\n",
       "      <td>2.49</td>\n",
       "      <td>NaN</td>\n",
       "      <td>NaN</td>\n",
       "    </tr>\n",
       "    <tr>\n",
       "      <th>82684</th>\n",
       "      <td>transaction</td>\n",
       "      <td>70ad38ba603b4703a521c46554fda1c5</td>\n",
       "      <td>204</td>\n",
       "      <td>0.64</td>\n",
       "      <td>NaN</td>\n",
       "      <td>NaN</td>\n",
       "    </tr>\n",
       "    <tr>\n",
       "      <th>122348</th>\n",
       "      <td>offer received</td>\n",
       "      <td>a0de41aa3dfe49ca8d6eef995d3eba66</td>\n",
       "      <td>336</td>\n",
       "      <td>NaN</td>\n",
       "      <td>NaN</td>\n",
       "      <td>9b98b8c7a33c4b65b9aebfe6a799e6d9</td>\n",
       "    </tr>\n",
       "    <tr>\n",
       "      <th>174277</th>\n",
       "      <td>offer viewed</td>\n",
       "      <td>394775ef5c614facb20af9e4fc9a9f23</td>\n",
       "      <td>420</td>\n",
       "      <td>NaN</td>\n",
       "      <td>NaN</td>\n",
       "      <td>5a8bc65990b245e5a138643cd4eb9837</td>\n",
       "    </tr>\n",
       "    <tr>\n",
       "      <th>14724</th>\n",
       "      <td>offer viewed</td>\n",
       "      <td>b7aa6f74b09b40d89cfbdbba1350b282</td>\n",
       "      <td>0</td>\n",
       "      <td>NaN</td>\n",
       "      <td>NaN</td>\n",
       "      <td>fafdcd668e3743c1bb461111dcafc2a4</td>\n",
       "    </tr>\n",
       "    <tr>\n",
       "      <th>97556</th>\n",
       "      <td>transaction</td>\n",
       "      <td>60ce7058fd174a128b48371bd1dbd61b</td>\n",
       "      <td>258</td>\n",
       "      <td>6.38</td>\n",
       "      <td>NaN</td>\n",
       "      <td>NaN</td>\n",
       "    </tr>\n",
       "    <tr>\n",
       "      <th>118237</th>\n",
       "      <td>offer received</td>\n",
       "      <td>0975267d50f7470da79d18591352e13d</td>\n",
       "      <td>336</td>\n",
       "      <td>NaN</td>\n",
       "      <td>NaN</td>\n",
       "      <td>3f207df678b143eea3cee63160fa8bed</td>\n",
       "    </tr>\n",
       "    <tr>\n",
       "      <th>237897</th>\n",
       "      <td>transaction</td>\n",
       "      <td>a245499a51c948829ac0825d9c669ee8</td>\n",
       "      <td>552</td>\n",
       "      <td>0.69</td>\n",
       "      <td>NaN</td>\n",
       "      <td>NaN</td>\n",
       "    </tr>\n",
       "    <tr>\n",
       "      <th>91629</th>\n",
       "      <td>transaction</td>\n",
       "      <td>970f224ba9bd40599b8916c132b58b39</td>\n",
       "      <td>234</td>\n",
       "      <td>6.53</td>\n",
       "      <td>NaN</td>\n",
       "      <td>NaN</td>\n",
       "    </tr>\n",
       "  </tbody>\n",
       "</table>\n",
       "</div>"
      ],
      "text/plain": [
       "                 event                            person  time  amount  \\\n",
       "305311     transaction  ebc303bcc1b44aa6b4d1762960451468   708   12.52   \n",
       "82460      transaction  17056c2cfb384ba1aae130fe0044fe79   204    2.49   \n",
       "82684      transaction  70ad38ba603b4703a521c46554fda1c5   204    0.64   \n",
       "122348  offer received  a0de41aa3dfe49ca8d6eef995d3eba66   336     NaN   \n",
       "174277    offer viewed  394775ef5c614facb20af9e4fc9a9f23   420     NaN   \n",
       "14724     offer viewed  b7aa6f74b09b40d89cfbdbba1350b282     0     NaN   \n",
       "97556      transaction  60ce7058fd174a128b48371bd1dbd61b   258    6.38   \n",
       "118237  offer received  0975267d50f7470da79d18591352e13d   336     NaN   \n",
       "237897     transaction  a245499a51c948829ac0825d9c669ee8   552    0.69   \n",
       "91629      transaction  970f224ba9bd40599b8916c132b58b39   234    6.53   \n",
       "\n",
       "        reward                          id_offer  \n",
       "305311     NaN                               NaN  \n",
       "82460      NaN                               NaN  \n",
       "82684      NaN                               NaN  \n",
       "122348     NaN  9b98b8c7a33c4b65b9aebfe6a799e6d9  \n",
       "174277     NaN  5a8bc65990b245e5a138643cd4eb9837  \n",
       "14724      NaN  fafdcd668e3743c1bb461111dcafc2a4  \n",
       "97556      NaN                               NaN  \n",
       "118237     NaN  3f207df678b143eea3cee63160fa8bed  \n",
       "237897     NaN                               NaN  \n",
       "91629      NaN                               NaN  "
      ]
     },
     "execution_count": 27,
     "metadata": {},
     "output_type": "execute_result"
    }
   ],
   "source": [
    "# we got duplicated cols (offer id vs offer_id) -> combine both columns in new column \"id_offer\"\n",
    "transcript_df[\"id_offer\"] = np.where(transcript_df['offer_id'].isnull(), transcript_df['offer id'], transcript_df['offer_id'])\n",
    "transcript_df.drop(columns=['offer_id','offer id',\"value\"],inplace=True)\n",
    "transcript_df.sample(10)"
   ]
  },
  {
   "cell_type": "code",
   "execution_count": 28,
   "metadata": {},
   "outputs": [],
   "source": [
    "# replace amount and reward NaN with zero's\n",
    "transcript_df.amount = transcript_df.amount.fillna(0)\n",
    "transcript_df.reward = transcript_df.reward.fillna(0)"
   ]
  },
  {
   "cell_type": "code",
   "execution_count": 29,
   "metadata": {},
   "outputs": [
    {
     "data": {
      "text/html": [
       "<div>\n",
       "<style scoped>\n",
       "    .dataframe tbody tr th:only-of-type {\n",
       "        vertical-align: middle;\n",
       "    }\n",
       "\n",
       "    .dataframe tbody tr th {\n",
       "        vertical-align: top;\n",
       "    }\n",
       "\n",
       "    .dataframe thead th {\n",
       "        text-align: right;\n",
       "    }\n",
       "</style>\n",
       "<table border=\"1\" class=\"dataframe\">\n",
       "  <thead>\n",
       "    <tr style=\"text-align: right;\">\n",
       "      <th></th>\n",
       "      <th>event</th>\n",
       "      <th>person</th>\n",
       "      <th>time</th>\n",
       "      <th>amount</th>\n",
       "      <th>reward_x</th>\n",
       "      <th>id_offer</th>\n",
       "      <th>channels</th>\n",
       "      <th>difficulty</th>\n",
       "      <th>duration</th>\n",
       "      <th>offer_type</th>\n",
       "      <th>reward_y</th>\n",
       "    </tr>\n",
       "  </thead>\n",
       "  <tbody>\n",
       "    <tr>\n",
       "      <th>282032</th>\n",
       "      <td>transaction</td>\n",
       "      <td>2a793c13ad9d43eb95da32e8b7a5a079</td>\n",
       "      <td>624</td>\n",
       "      <td>17.37</td>\n",
       "      <td>0.0</td>\n",
       "      <td>NaN</td>\n",
       "      <td>NaN</td>\n",
       "      <td>NaN</td>\n",
       "      <td>NaN</td>\n",
       "      <td>NaN</td>\n",
       "      <td>NaN</td>\n",
       "    </tr>\n",
       "    <tr>\n",
       "      <th>181151</th>\n",
       "      <td>transaction</td>\n",
       "      <td>d37f9b61415e4a7bb032df9f96abbb6d</td>\n",
       "      <td>438</td>\n",
       "      <td>0.17</td>\n",
       "      <td>0.0</td>\n",
       "      <td>NaN</td>\n",
       "      <td>NaN</td>\n",
       "      <td>NaN</td>\n",
       "      <td>NaN</td>\n",
       "      <td>NaN</td>\n",
       "      <td>NaN</td>\n",
       "    </tr>\n",
       "    <tr>\n",
       "      <th>250150</th>\n",
       "      <td>offer received</td>\n",
       "      <td>f694568bf7d94b74b98a4c824b9c4a13</td>\n",
       "      <td>576</td>\n",
       "      <td>0.00</td>\n",
       "      <td>0.0</td>\n",
       "      <td>5a8bc65990b245e5a138643cd4eb9837</td>\n",
       "      <td>[email, mobile, social]</td>\n",
       "      <td>0.0</td>\n",
       "      <td>72.0</td>\n",
       "      <td>informational</td>\n",
       "      <td>0.0</td>\n",
       "    </tr>\n",
       "    <tr>\n",
       "      <th>247178</th>\n",
       "      <td>offer received</td>\n",
       "      <td>70425153d8ec410d823ee209aa49700b</td>\n",
       "      <td>576</td>\n",
       "      <td>0.00</td>\n",
       "      <td>0.0</td>\n",
       "      <td>4d5c57ea9a6940dd891ad53e9dbe8da0</td>\n",
       "      <td>[web, email, mobile, social]</td>\n",
       "      <td>10.0</td>\n",
       "      <td>120.0</td>\n",
       "      <td>bogo</td>\n",
       "      <td>10.0</td>\n",
       "    </tr>\n",
       "    <tr>\n",
       "      <th>75825</th>\n",
       "      <td>transaction</td>\n",
       "      <td>df6aa41febb14d8d8e05ee665a3fe00f</td>\n",
       "      <td>186</td>\n",
       "      <td>13.94</td>\n",
       "      <td>0.0</td>\n",
       "      <td>NaN</td>\n",
       "      <td>NaN</td>\n",
       "      <td>NaN</td>\n",
       "      <td>NaN</td>\n",
       "      <td>NaN</td>\n",
       "      <td>NaN</td>\n",
       "    </tr>\n",
       "    <tr>\n",
       "      <th>74723</th>\n",
       "      <td>offer viewed</td>\n",
       "      <td>27b2dc1b194f4451b0966de7a29c55a9</td>\n",
       "      <td>180</td>\n",
       "      <td>0.00</td>\n",
       "      <td>0.0</td>\n",
       "      <td>fafdcd668e3743c1bb461111dcafc2a4</td>\n",
       "      <td>[web, email, mobile, social]</td>\n",
       "      <td>10.0</td>\n",
       "      <td>240.0</td>\n",
       "      <td>discount</td>\n",
       "      <td>2.0</td>\n",
       "    </tr>\n",
       "    <tr>\n",
       "      <th>281454</th>\n",
       "      <td>transaction</td>\n",
       "      <td>3d92ee9eb0b444a6bc99e01c46e043ce</td>\n",
       "      <td>618</td>\n",
       "      <td>14.77</td>\n",
       "      <td>0.0</td>\n",
       "      <td>NaN</td>\n",
       "      <td>NaN</td>\n",
       "      <td>NaN</td>\n",
       "      <td>NaN</td>\n",
       "      <td>NaN</td>\n",
       "      <td>NaN</td>\n",
       "    </tr>\n",
       "    <tr>\n",
       "      <th>191477</th>\n",
       "      <td>transaction</td>\n",
       "      <td>0375600415e24e0a9fd83ec191d5955d</td>\n",
       "      <td>468</td>\n",
       "      <td>3.10</td>\n",
       "      <td>0.0</td>\n",
       "      <td>NaN</td>\n",
       "      <td>NaN</td>\n",
       "      <td>NaN</td>\n",
       "      <td>NaN</td>\n",
       "      <td>NaN</td>\n",
       "      <td>NaN</td>\n",
       "    </tr>\n",
       "    <tr>\n",
       "      <th>96336</th>\n",
       "      <td>transaction</td>\n",
       "      <td>a62b73003f084ae4ae59c4b0e617f647</td>\n",
       "      <td>252</td>\n",
       "      <td>20.97</td>\n",
       "      <td>0.0</td>\n",
       "      <td>NaN</td>\n",
       "      <td>NaN</td>\n",
       "      <td>NaN</td>\n",
       "      <td>NaN</td>\n",
       "      <td>NaN</td>\n",
       "      <td>NaN</td>\n",
       "    </tr>\n",
       "    <tr>\n",
       "      <th>202837</th>\n",
       "      <td>offer received</td>\n",
       "      <td>48a6e49849bd4375a4463eda85789a29</td>\n",
       "      <td>504</td>\n",
       "      <td>0.00</td>\n",
       "      <td>0.0</td>\n",
       "      <td>5a8bc65990b245e5a138643cd4eb9837</td>\n",
       "      <td>[email, mobile, social]</td>\n",
       "      <td>0.0</td>\n",
       "      <td>72.0</td>\n",
       "      <td>informational</td>\n",
       "      <td>0.0</td>\n",
       "    </tr>\n",
       "  </tbody>\n",
       "</table>\n",
       "</div>"
      ],
      "text/plain": [
       "                 event                            person  time  amount  \\\n",
       "282032     transaction  2a793c13ad9d43eb95da32e8b7a5a079   624   17.37   \n",
       "181151     transaction  d37f9b61415e4a7bb032df9f96abbb6d   438    0.17   \n",
       "250150  offer received  f694568bf7d94b74b98a4c824b9c4a13   576    0.00   \n",
       "247178  offer received  70425153d8ec410d823ee209aa49700b   576    0.00   \n",
       "75825      transaction  df6aa41febb14d8d8e05ee665a3fe00f   186   13.94   \n",
       "74723     offer viewed  27b2dc1b194f4451b0966de7a29c55a9   180    0.00   \n",
       "281454     transaction  3d92ee9eb0b444a6bc99e01c46e043ce   618   14.77   \n",
       "191477     transaction  0375600415e24e0a9fd83ec191d5955d   468    3.10   \n",
       "96336      transaction  a62b73003f084ae4ae59c4b0e617f647   252   20.97   \n",
       "202837  offer received  48a6e49849bd4375a4463eda85789a29   504    0.00   \n",
       "\n",
       "        reward_x                          id_offer  \\\n",
       "282032       0.0                               NaN   \n",
       "181151       0.0                               NaN   \n",
       "250150       0.0  5a8bc65990b245e5a138643cd4eb9837   \n",
       "247178       0.0  4d5c57ea9a6940dd891ad53e9dbe8da0   \n",
       "75825        0.0                               NaN   \n",
       "74723        0.0  fafdcd668e3743c1bb461111dcafc2a4   \n",
       "281454       0.0                               NaN   \n",
       "191477       0.0                               NaN   \n",
       "96336        0.0                               NaN   \n",
       "202837       0.0  5a8bc65990b245e5a138643cd4eb9837   \n",
       "\n",
       "                            channels  difficulty  duration     offer_type  \\\n",
       "282032                           NaN         NaN       NaN            NaN   \n",
       "181151                           NaN         NaN       NaN            NaN   \n",
       "250150       [email, mobile, social]         0.0      72.0  informational   \n",
       "247178  [web, email, mobile, social]        10.0     120.0           bogo   \n",
       "75825                            NaN         NaN       NaN            NaN   \n",
       "74723   [web, email, mobile, social]        10.0     240.0       discount   \n",
       "281454                           NaN         NaN       NaN            NaN   \n",
       "191477                           NaN         NaN       NaN            NaN   \n",
       "96336                            NaN         NaN       NaN            NaN   \n",
       "202837       [email, mobile, social]         0.0      72.0  informational   \n",
       "\n",
       "        reward_y  \n",
       "282032       NaN  \n",
       "181151       NaN  \n",
       "250150       0.0  \n",
       "247178      10.0  \n",
       "75825        NaN  \n",
       "74723        2.0  \n",
       "281454       NaN  \n",
       "191477       NaN  \n",
       "96336        NaN  \n",
       "202837       0.0  "
      ]
     },
     "execution_count": 29,
     "metadata": {},
     "output_type": "execute_result"
    }
   ],
   "source": [
    "# Merge all three datasets and start with transcript and portfolio\n",
    "df =pd.merge(transcript_df, portfolio_df, how = 'left', on = \"id_offer\")\n",
    "df.sample(10)"
   ]
  },
  {
   "cell_type": "code",
   "execution_count": 30,
   "metadata": {},
   "outputs": [
    {
     "data": {
      "text/html": [
       "<div>\n",
       "<style scoped>\n",
       "    .dataframe tbody tr th:only-of-type {\n",
       "        vertical-align: middle;\n",
       "    }\n",
       "\n",
       "    .dataframe tbody tr th {\n",
       "        vertical-align: top;\n",
       "    }\n",
       "\n",
       "    .dataframe thead th {\n",
       "        text-align: right;\n",
       "    }\n",
       "</style>\n",
       "<table border=\"1\" class=\"dataframe\">\n",
       "  <thead>\n",
       "    <tr style=\"text-align: right;\">\n",
       "      <th></th>\n",
       "      <th>event</th>\n",
       "      <th>person</th>\n",
       "      <th>time</th>\n",
       "      <th>amount</th>\n",
       "      <th>id_offer</th>\n",
       "      <th>channels</th>\n",
       "      <th>difficulty</th>\n",
       "      <th>duration</th>\n",
       "      <th>offer_type</th>\n",
       "      <th>reward</th>\n",
       "    </tr>\n",
       "  </thead>\n",
       "  <tbody>\n",
       "    <tr>\n",
       "      <th>215497</th>\n",
       "      <td>offer viewed</td>\n",
       "      <td>5433b75812d94a7faf79c6b81a10c506</td>\n",
       "      <td>504</td>\n",
       "      <td>0.00</td>\n",
       "      <td>f19421c1d4aa40978ebb69ca19b0e20d</td>\n",
       "      <td>[web, email, mobile, social]</td>\n",
       "      <td>5.0</td>\n",
       "      <td>120.0</td>\n",
       "      <td>bogo</td>\n",
       "      <td>0.0</td>\n",
       "    </tr>\n",
       "    <tr>\n",
       "      <th>18266</th>\n",
       "      <td>offer completed</td>\n",
       "      <td>b13775803ef54a42970428c05b9f3dfb</td>\n",
       "      <td>12</td>\n",
       "      <td>0.00</td>\n",
       "      <td>4d5c57ea9a6940dd891ad53e9dbe8da0</td>\n",
       "      <td>[web, email, mobile, social]</td>\n",
       "      <td>10.0</td>\n",
       "      <td>120.0</td>\n",
       "      <td>bogo</td>\n",
       "      <td>10.0</td>\n",
       "    </tr>\n",
       "    <tr>\n",
       "      <th>255297</th>\n",
       "      <td>offer received</td>\n",
       "      <td>8d7f019460c6461e9eb6d2022d8b84ef</td>\n",
       "      <td>576</td>\n",
       "      <td>0.00</td>\n",
       "      <td>0b1e1539f2cc45b7b9fa7c272da2e1d7</td>\n",
       "      <td>[web, email]</td>\n",
       "      <td>20.0</td>\n",
       "      <td>240.0</td>\n",
       "      <td>discount</td>\n",
       "      <td>0.0</td>\n",
       "    </tr>\n",
       "    <tr>\n",
       "      <th>286393</th>\n",
       "      <td>offer completed</td>\n",
       "      <td>54f2fd27d5aa4cfd822219e833cc2af3</td>\n",
       "      <td>636</td>\n",
       "      <td>0.00</td>\n",
       "      <td>4d5c57ea9a6940dd891ad53e9dbe8da0</td>\n",
       "      <td>[web, email, mobile, social]</td>\n",
       "      <td>10.0</td>\n",
       "      <td>120.0</td>\n",
       "      <td>bogo</td>\n",
       "      <td>10.0</td>\n",
       "    </tr>\n",
       "    <tr>\n",
       "      <th>41823</th>\n",
       "      <td>offer viewed</td>\n",
       "      <td>16ce6c584b214299b3e8bdfbca8235cb</td>\n",
       "      <td>96</td>\n",
       "      <td>0.00</td>\n",
       "      <td>0b1e1539f2cc45b7b9fa7c272da2e1d7</td>\n",
       "      <td>[web, email]</td>\n",
       "      <td>20.0</td>\n",
       "      <td>240.0</td>\n",
       "      <td>discount</td>\n",
       "      <td>0.0</td>\n",
       "    </tr>\n",
       "    <tr>\n",
       "      <th>291993</th>\n",
       "      <td>transaction</td>\n",
       "      <td>329baea6cdfe4b42ac0479f38a0e50ad</td>\n",
       "      <td>654</td>\n",
       "      <td>14.33</td>\n",
       "      <td>NaN</td>\n",
       "      <td>NaN</td>\n",
       "      <td>NaN</td>\n",
       "      <td>NaN</td>\n",
       "      <td>NaN</td>\n",
       "      <td>0.0</td>\n",
       "    </tr>\n",
       "    <tr>\n",
       "      <th>61668</th>\n",
       "      <td>offer received</td>\n",
       "      <td>7f57c1760524405f8e23871c1d80694a</td>\n",
       "      <td>168</td>\n",
       "      <td>0.00</td>\n",
       "      <td>0b1e1539f2cc45b7b9fa7c272da2e1d7</td>\n",
       "      <td>[web, email]</td>\n",
       "      <td>20.0</td>\n",
       "      <td>240.0</td>\n",
       "      <td>discount</td>\n",
       "      <td>0.0</td>\n",
       "    </tr>\n",
       "    <tr>\n",
       "      <th>197656</th>\n",
       "      <td>transaction</td>\n",
       "      <td>3c5e22dca5164b0ca1203e2ba2a31ca7</td>\n",
       "      <td>486</td>\n",
       "      <td>4.64</td>\n",
       "      <td>NaN</td>\n",
       "      <td>NaN</td>\n",
       "      <td>NaN</td>\n",
       "      <td>NaN</td>\n",
       "      <td>NaN</td>\n",
       "      <td>0.0</td>\n",
       "    </tr>\n",
       "    <tr>\n",
       "      <th>171159</th>\n",
       "      <td>offer viewed</td>\n",
       "      <td>8dda575c2a1d44b9ac8e8b07b93d1f8e</td>\n",
       "      <td>414</td>\n",
       "      <td>0.00</td>\n",
       "      <td>ae264e3637204a6fb9bb56bc8210ddfd</td>\n",
       "      <td>[email, mobile, social]</td>\n",
       "      <td>10.0</td>\n",
       "      <td>168.0</td>\n",
       "      <td>bogo</td>\n",
       "      <td>0.0</td>\n",
       "    </tr>\n",
       "    <tr>\n",
       "      <th>133335</th>\n",
       "      <td>transaction</td>\n",
       "      <td>f883a0574d944b0488bca8cc4b22a728</td>\n",
       "      <td>354</td>\n",
       "      <td>24.15</td>\n",
       "      <td>NaN</td>\n",
       "      <td>NaN</td>\n",
       "      <td>NaN</td>\n",
       "      <td>NaN</td>\n",
       "      <td>NaN</td>\n",
       "      <td>0.0</td>\n",
       "    </tr>\n",
       "  </tbody>\n",
       "</table>\n",
       "</div>"
      ],
      "text/plain": [
       "                  event                            person  time  amount  \\\n",
       "215497     offer viewed  5433b75812d94a7faf79c6b81a10c506   504    0.00   \n",
       "18266   offer completed  b13775803ef54a42970428c05b9f3dfb    12    0.00   \n",
       "255297   offer received  8d7f019460c6461e9eb6d2022d8b84ef   576    0.00   \n",
       "286393  offer completed  54f2fd27d5aa4cfd822219e833cc2af3   636    0.00   \n",
       "41823      offer viewed  16ce6c584b214299b3e8bdfbca8235cb    96    0.00   \n",
       "291993      transaction  329baea6cdfe4b42ac0479f38a0e50ad   654   14.33   \n",
       "61668    offer received  7f57c1760524405f8e23871c1d80694a   168    0.00   \n",
       "197656      transaction  3c5e22dca5164b0ca1203e2ba2a31ca7   486    4.64   \n",
       "171159     offer viewed  8dda575c2a1d44b9ac8e8b07b93d1f8e   414    0.00   \n",
       "133335      transaction  f883a0574d944b0488bca8cc4b22a728   354   24.15   \n",
       "\n",
       "                                id_offer                      channels  \\\n",
       "215497  f19421c1d4aa40978ebb69ca19b0e20d  [web, email, mobile, social]   \n",
       "18266   4d5c57ea9a6940dd891ad53e9dbe8da0  [web, email, mobile, social]   \n",
       "255297  0b1e1539f2cc45b7b9fa7c272da2e1d7                  [web, email]   \n",
       "286393  4d5c57ea9a6940dd891ad53e9dbe8da0  [web, email, mobile, social]   \n",
       "41823   0b1e1539f2cc45b7b9fa7c272da2e1d7                  [web, email]   \n",
       "291993                               NaN                           NaN   \n",
       "61668   0b1e1539f2cc45b7b9fa7c272da2e1d7                  [web, email]   \n",
       "197656                               NaN                           NaN   \n",
       "171159  ae264e3637204a6fb9bb56bc8210ddfd       [email, mobile, social]   \n",
       "133335                               NaN                           NaN   \n",
       "\n",
       "        difficulty  duration offer_type  reward  \n",
       "215497         5.0     120.0       bogo     0.0  \n",
       "18266         10.0     120.0       bogo    10.0  \n",
       "255297        20.0     240.0   discount     0.0  \n",
       "286393        10.0     120.0       bogo    10.0  \n",
       "41823         20.0     240.0   discount     0.0  \n",
       "291993         NaN       NaN        NaN     0.0  \n",
       "61668         20.0     240.0   discount     0.0  \n",
       "197656         NaN       NaN        NaN     0.0  \n",
       "171159        10.0     168.0       bogo     0.0  \n",
       "133335         NaN       NaN        NaN     0.0  "
      ]
     },
     "execution_count": 30,
     "metadata": {},
     "output_type": "execute_result"
    }
   ],
   "source": [
    "# combine both reward cols and drop them aftewards\n",
    "df[\"reward\"] = np.where(df['reward_x'].isnull(), df['reward_y'], df['reward_x'])\n",
    "df.drop(columns=['reward_x','reward_y'],inplace=True)\n",
    "df.sample(10)"
   ]
  },
  {
   "cell_type": "code",
   "execution_count": 31,
   "metadata": {},
   "outputs": [
    {
     "data": {
      "text/html": [
       "<div>\n",
       "<style scoped>\n",
       "    .dataframe tbody tr th:only-of-type {\n",
       "        vertical-align: middle;\n",
       "    }\n",
       "\n",
       "    .dataframe tbody tr th {\n",
       "        vertical-align: top;\n",
       "    }\n",
       "\n",
       "    .dataframe thead th {\n",
       "        text-align: right;\n",
       "    }\n",
       "</style>\n",
       "<table border=\"1\" class=\"dataframe\">\n",
       "  <thead>\n",
       "    <tr style=\"text-align: right;\">\n",
       "      <th></th>\n",
       "      <th>event</th>\n",
       "      <th>time</th>\n",
       "      <th>amount</th>\n",
       "      <th>id_offer</th>\n",
       "      <th>channels</th>\n",
       "      <th>difficulty</th>\n",
       "      <th>duration</th>\n",
       "      <th>offer_type</th>\n",
       "      <th>reward</th>\n",
       "      <th>age</th>\n",
       "      <th>gender</th>\n",
       "      <th>id_customer</th>\n",
       "      <th>income</th>\n",
       "      <th>member_since</th>\n",
       "    </tr>\n",
       "  </thead>\n",
       "  <tbody>\n",
       "    <tr>\n",
       "      <th>283595</th>\n",
       "      <td>transaction</td>\n",
       "      <td>624</td>\n",
       "      <td>15.84</td>\n",
       "      <td>NaN</td>\n",
       "      <td>NaN</td>\n",
       "      <td>NaN</td>\n",
       "      <td>NaN</td>\n",
       "      <td>NaN</td>\n",
       "      <td>0.0</td>\n",
       "      <td>77.0</td>\n",
       "      <td>F</td>\n",
       "      <td>24b7186006df42968b948016dda0030a</td>\n",
       "      <td>57000.0</td>\n",
       "      <td>3355.0</td>\n",
       "    </tr>\n",
       "    <tr>\n",
       "      <th>242737</th>\n",
       "      <td>transaction</td>\n",
       "      <td>564</td>\n",
       "      <td>1.11</td>\n",
       "      <td>NaN</td>\n",
       "      <td>NaN</td>\n",
       "      <td>NaN</td>\n",
       "      <td>NaN</td>\n",
       "      <td>NaN</td>\n",
       "      <td>0.0</td>\n",
       "      <td>31.0</td>\n",
       "      <td>M</td>\n",
       "      <td>42f35f86d08c45b39814fb3e4dbe8c07</td>\n",
       "      <td>63000.0</td>\n",
       "      <td>1855.0</td>\n",
       "    </tr>\n",
       "    <tr>\n",
       "      <th>13335</th>\n",
       "      <td>transaction</td>\n",
       "      <td>0</td>\n",
       "      <td>2.18</td>\n",
       "      <td>NaN</td>\n",
       "      <td>NaN</td>\n",
       "      <td>NaN</td>\n",
       "      <td>NaN</td>\n",
       "      <td>NaN</td>\n",
       "      <td>0.0</td>\n",
       "      <td>64.0</td>\n",
       "      <td>M</td>\n",
       "      <td>8f808e51d5614c859a4cd1ea857ba917</td>\n",
       "      <td>41000.0</td>\n",
       "      <td>1881.0</td>\n",
       "    </tr>\n",
       "    <tr>\n",
       "      <th>226012</th>\n",
       "      <td>offer viewed</td>\n",
       "      <td>522</td>\n",
       "      <td>0.00</td>\n",
       "      <td>4d5c57ea9a6940dd891ad53e9dbe8da0</td>\n",
       "      <td>[web, email, mobile, social]</td>\n",
       "      <td>10.0</td>\n",
       "      <td>120.0</td>\n",
       "      <td>bogo</td>\n",
       "      <td>0.0</td>\n",
       "      <td>38.0</td>\n",
       "      <td>F</td>\n",
       "      <td>1c02de7f5703489293709fc1a9708197</td>\n",
       "      <td>57000.0</td>\n",
       "      <td>1842.0</td>\n",
       "    </tr>\n",
       "    <tr>\n",
       "      <th>12533</th>\n",
       "      <td>offer received</td>\n",
       "      <td>0</td>\n",
       "      <td>0.00</td>\n",
       "      <td>5a8bc65990b245e5a138643cd4eb9837</td>\n",
       "      <td>[email, mobile, social]</td>\n",
       "      <td>0.0</td>\n",
       "      <td>72.0</td>\n",
       "      <td>informational</td>\n",
       "      <td>0.0</td>\n",
       "      <td>57.0</td>\n",
       "      <td>F</td>\n",
       "      <td>86d03d35d7e0434b935e7743e83be3a0</td>\n",
       "      <td>53000.0</td>\n",
       "      <td>2186.0</td>\n",
       "    </tr>\n",
       "    <tr>\n",
       "      <th>218112</th>\n",
       "      <td>offer viewed</td>\n",
       "      <td>504</td>\n",
       "      <td>0.00</td>\n",
       "      <td>0b1e1539f2cc45b7b9fa7c272da2e1d7</td>\n",
       "      <td>[web, email]</td>\n",
       "      <td>20.0</td>\n",
       "      <td>240.0</td>\n",
       "      <td>discount</td>\n",
       "      <td>0.0</td>\n",
       "      <td>NaN</td>\n",
       "      <td>NaN</td>\n",
       "      <td>NaN</td>\n",
       "      <td>NaN</td>\n",
       "      <td>NaN</td>\n",
       "    </tr>\n",
       "    <tr>\n",
       "      <th>299245</th>\n",
       "      <td>transaction</td>\n",
       "      <td>678</td>\n",
       "      <td>4.86</td>\n",
       "      <td>NaN</td>\n",
       "      <td>NaN</td>\n",
       "      <td>NaN</td>\n",
       "      <td>NaN</td>\n",
       "      <td>NaN</td>\n",
       "      <td>0.0</td>\n",
       "      <td>60.0</td>\n",
       "      <td>M</td>\n",
       "      <td>c3d7053eff574ef99a732b5b7a1749ed</td>\n",
       "      <td>44000.0</td>\n",
       "      <td>2150.0</td>\n",
       "    </tr>\n",
       "    <tr>\n",
       "      <th>192162</th>\n",
       "      <td>offer viewed</td>\n",
       "      <td>468</td>\n",
       "      <td>0.00</td>\n",
       "      <td>9b98b8c7a33c4b65b9aebfe6a799e6d9</td>\n",
       "      <td>[web, email, mobile]</td>\n",
       "      <td>5.0</td>\n",
       "      <td>168.0</td>\n",
       "      <td>bogo</td>\n",
       "      <td>0.0</td>\n",
       "      <td>NaN</td>\n",
       "      <td>NaN</td>\n",
       "      <td>NaN</td>\n",
       "      <td>NaN</td>\n",
       "      <td>NaN</td>\n",
       "    </tr>\n",
       "    <tr>\n",
       "      <th>291419</th>\n",
       "      <td>transaction</td>\n",
       "      <td>648</td>\n",
       "      <td>11.05</td>\n",
       "      <td>NaN</td>\n",
       "      <td>NaN</td>\n",
       "      <td>NaN</td>\n",
       "      <td>NaN</td>\n",
       "      <td>NaN</td>\n",
       "      <td>0.0</td>\n",
       "      <td>30.0</td>\n",
       "      <td>F</td>\n",
       "      <td>149712de2ae24c219b992cb3a5f432bc</td>\n",
       "      <td>33000.0</td>\n",
       "      <td>2099.0</td>\n",
       "    </tr>\n",
       "    <tr>\n",
       "      <th>230992</th>\n",
       "      <td>transaction</td>\n",
       "      <td>534</td>\n",
       "      <td>13.23</td>\n",
       "      <td>NaN</td>\n",
       "      <td>NaN</td>\n",
       "      <td>NaN</td>\n",
       "      <td>NaN</td>\n",
       "      <td>NaN</td>\n",
       "      <td>0.0</td>\n",
       "      <td>50.0</td>\n",
       "      <td>M</td>\n",
       "      <td>5ec9aeb4a48e4c5abfa6732d73ca3f7b</td>\n",
       "      <td>37000.0</td>\n",
       "      <td>2584.0</td>\n",
       "    </tr>\n",
       "  </tbody>\n",
       "</table>\n",
       "</div>"
      ],
      "text/plain": [
       "                 event  time  amount                          id_offer  \\\n",
       "283595     transaction   624   15.84                               NaN   \n",
       "242737     transaction   564    1.11                               NaN   \n",
       "13335      transaction     0    2.18                               NaN   \n",
       "226012    offer viewed   522    0.00  4d5c57ea9a6940dd891ad53e9dbe8da0   \n",
       "12533   offer received     0    0.00  5a8bc65990b245e5a138643cd4eb9837   \n",
       "218112    offer viewed   504    0.00  0b1e1539f2cc45b7b9fa7c272da2e1d7   \n",
       "299245     transaction   678    4.86                               NaN   \n",
       "192162    offer viewed   468    0.00  9b98b8c7a33c4b65b9aebfe6a799e6d9   \n",
       "291419     transaction   648   11.05                               NaN   \n",
       "230992     transaction   534   13.23                               NaN   \n",
       "\n",
       "                            channels  difficulty  duration     offer_type  \\\n",
       "283595                           NaN         NaN       NaN            NaN   \n",
       "242737                           NaN         NaN       NaN            NaN   \n",
       "13335                            NaN         NaN       NaN            NaN   \n",
       "226012  [web, email, mobile, social]        10.0     120.0           bogo   \n",
       "12533        [email, mobile, social]         0.0      72.0  informational   \n",
       "218112                  [web, email]        20.0     240.0       discount   \n",
       "299245                           NaN         NaN       NaN            NaN   \n",
       "192162          [web, email, mobile]         5.0     168.0           bogo   \n",
       "291419                           NaN         NaN       NaN            NaN   \n",
       "230992                           NaN         NaN       NaN            NaN   \n",
       "\n",
       "        reward   age gender                       id_customer   income  \\\n",
       "283595     0.0  77.0      F  24b7186006df42968b948016dda0030a  57000.0   \n",
       "242737     0.0  31.0      M  42f35f86d08c45b39814fb3e4dbe8c07  63000.0   \n",
       "13335      0.0  64.0      M  8f808e51d5614c859a4cd1ea857ba917  41000.0   \n",
       "226012     0.0  38.0      F  1c02de7f5703489293709fc1a9708197  57000.0   \n",
       "12533      0.0  57.0      F  86d03d35d7e0434b935e7743e83be3a0  53000.0   \n",
       "218112     0.0   NaN    NaN                               NaN      NaN   \n",
       "299245     0.0  60.0      M  c3d7053eff574ef99a732b5b7a1749ed  44000.0   \n",
       "192162     0.0   NaN    NaN                               NaN      NaN   \n",
       "291419     0.0  30.0      F  149712de2ae24c219b992cb3a5f432bc  33000.0   \n",
       "230992     0.0  50.0      M  5ec9aeb4a48e4c5abfa6732d73ca3f7b  37000.0   \n",
       "\n",
       "        member_since  \n",
       "283595        3355.0  \n",
       "242737        1855.0  \n",
       "13335         1881.0  \n",
       "226012        1842.0  \n",
       "12533         2186.0  \n",
       "218112           NaN  \n",
       "299245        2150.0  \n",
       "192162           NaN  \n",
       "291419        2099.0  \n",
       "230992        2584.0  "
      ]
     },
     "execution_count": 31,
     "metadata": {},
     "output_type": "execute_result"
    }
   ],
   "source": [
    "df =pd.merge(df, profile_df, how = 'left', left_on = \"person\", right_on=\"id_customer\")\n",
    "df.drop(columns=['person'],inplace=True)\n",
    "df.sample(10)"
   ]
  },
  {
   "cell_type": "code",
   "execution_count": 32,
   "metadata": {},
   "outputs": [
    {
     "data": {
      "text/plain": [
       "0.11017374907840566"
      ]
     },
     "execution_count": 32,
     "metadata": {},
     "output_type": "execute_result"
    }
   ],
   "source": [
    "sum(df.id_customer.isna())/df.shape[0]"
   ]
  },
  {
   "cell_type": "code",
   "execution_count": 33,
   "metadata": {},
   "outputs": [
    {
     "data": {
      "text/plain": [
       "0.0"
      ]
     },
     "execution_count": 33,
     "metadata": {},
     "output_type": "execute_result"
    }
   ],
   "source": [
    "# drop records where we do not have information on customer\n",
    "df = df[~df.id_customer.isna()]\n",
    "sum(df.id_customer.isna())/df.shape[0]"
   ]
  },
  {
   "cell_type": "code",
   "execution_count": 34,
   "metadata": {},
   "outputs": [],
   "source": [
    "# before sorting, assign each transaction a process number (easier to process below)\n",
    "# 1) offer received 2) offer viewed 3) transaction 4) offer completed\n",
    "conditions = [\n",
    "    (df['event'] == \"offer received\"),\n",
    "    (df['event'] == \"offer viewed\"),\n",
    "    (df['event'] == \"transaction\"),\n",
    "    (df['event'] == \"offer completed\")\n",
    "    ]\n",
    "\n",
    "# create a list of the values we want to assign for each condition\n",
    "values = [1, 2, 3, 0]\n",
    "\n",
    "# create a new column and use np.select to assign values to it using our lists as arguments\n",
    "df['event_num'] = np.select(conditions, values)"
   ]
  },
  {
   "cell_type": "code",
   "execution_count": 35,
   "metadata": {},
   "outputs": [],
   "source": [
    "# get order in offer processes\n",
    "df = df.sort_values(['id_customer','time','event_num'])"
   ]
  },
  {
   "cell_type": "code",
   "execution_count": 36,
   "metadata": {
    "scrolled": true
   },
   "outputs": [
    {
     "data": {
      "text/html": [
       "<div>\n",
       "<style scoped>\n",
       "    .dataframe tbody tr th:only-of-type {\n",
       "        vertical-align: middle;\n",
       "    }\n",
       "\n",
       "    .dataframe tbody tr th {\n",
       "        vertical-align: top;\n",
       "    }\n",
       "\n",
       "    .dataframe thead th {\n",
       "        text-align: right;\n",
       "    }\n",
       "</style>\n",
       "<table border=\"1\" class=\"dataframe\">\n",
       "  <thead>\n",
       "    <tr style=\"text-align: right;\">\n",
       "      <th></th>\n",
       "      <th>event</th>\n",
       "      <th>time</th>\n",
       "      <th>amount</th>\n",
       "      <th>id_offer</th>\n",
       "      <th>channels</th>\n",
       "      <th>difficulty</th>\n",
       "      <th>duration</th>\n",
       "      <th>offer_type</th>\n",
       "      <th>reward</th>\n",
       "      <th>age</th>\n",
       "      <th>gender</th>\n",
       "      <th>id_customer</th>\n",
       "      <th>income</th>\n",
       "      <th>member_since</th>\n",
       "      <th>event_num</th>\n",
       "    </tr>\n",
       "  </thead>\n",
       "  <tbody>\n",
       "    <tr>\n",
       "      <th>55972</th>\n",
       "      <td>offer received</td>\n",
       "      <td>168</td>\n",
       "      <td>0.00</td>\n",
       "      <td>5a8bc65990b245e5a138643cd4eb9837</td>\n",
       "      <td>[email, mobile, social]</td>\n",
       "      <td>0.0</td>\n",
       "      <td>72.0</td>\n",
       "      <td>informational</td>\n",
       "      <td>0.0</td>\n",
       "      <td>33.0</td>\n",
       "      <td>M</td>\n",
       "      <td>0009655768c64bdeb2e877511632db8f</td>\n",
       "      <td>72000.0</td>\n",
       "      <td>2070.0</td>\n",
       "      <td>1</td>\n",
       "    </tr>\n",
       "    <tr>\n",
       "      <th>77705</th>\n",
       "      <td>offer viewed</td>\n",
       "      <td>192</td>\n",
       "      <td>0.00</td>\n",
       "      <td>5a8bc65990b245e5a138643cd4eb9837</td>\n",
       "      <td>[email, mobile, social]</td>\n",
       "      <td>0.0</td>\n",
       "      <td>72.0</td>\n",
       "      <td>informational</td>\n",
       "      <td>0.0</td>\n",
       "      <td>33.0</td>\n",
       "      <td>M</td>\n",
       "      <td>0009655768c64bdeb2e877511632db8f</td>\n",
       "      <td>72000.0</td>\n",
       "      <td>2070.0</td>\n",
       "      <td>2</td>\n",
       "    </tr>\n",
       "    <tr>\n",
       "      <th>89291</th>\n",
       "      <td>transaction</td>\n",
       "      <td>228</td>\n",
       "      <td>22.16</td>\n",
       "      <td>NaN</td>\n",
       "      <td>NaN</td>\n",
       "      <td>NaN</td>\n",
       "      <td>NaN</td>\n",
       "      <td>NaN</td>\n",
       "      <td>0.0</td>\n",
       "      <td>33.0</td>\n",
       "      <td>M</td>\n",
       "      <td>0009655768c64bdeb2e877511632db8f</td>\n",
       "      <td>72000.0</td>\n",
       "      <td>2070.0</td>\n",
       "      <td>3</td>\n",
       "    </tr>\n",
       "    <tr>\n",
       "      <th>113605</th>\n",
       "      <td>offer received</td>\n",
       "      <td>336</td>\n",
       "      <td>0.00</td>\n",
       "      <td>3f207df678b143eea3cee63160fa8bed</td>\n",
       "      <td>[web, email, mobile]</td>\n",
       "      <td>0.0</td>\n",
       "      <td>96.0</td>\n",
       "      <td>informational</td>\n",
       "      <td>0.0</td>\n",
       "      <td>33.0</td>\n",
       "      <td>M</td>\n",
       "      <td>0009655768c64bdeb2e877511632db8f</td>\n",
       "      <td>72000.0</td>\n",
       "      <td>2070.0</td>\n",
       "      <td>1</td>\n",
       "    </tr>\n",
       "    <tr>\n",
       "      <th>139992</th>\n",
       "      <td>offer viewed</td>\n",
       "      <td>372</td>\n",
       "      <td>0.00</td>\n",
       "      <td>3f207df678b143eea3cee63160fa8bed</td>\n",
       "      <td>[web, email, mobile]</td>\n",
       "      <td>0.0</td>\n",
       "      <td>96.0</td>\n",
       "      <td>informational</td>\n",
       "      <td>0.0</td>\n",
       "      <td>33.0</td>\n",
       "      <td>M</td>\n",
       "      <td>0009655768c64bdeb2e877511632db8f</td>\n",
       "      <td>72000.0</td>\n",
       "      <td>2070.0</td>\n",
       "      <td>2</td>\n",
       "    </tr>\n",
       "    <tr>\n",
       "      <th>153401</th>\n",
       "      <td>offer received</td>\n",
       "      <td>408</td>\n",
       "      <td>0.00</td>\n",
       "      <td>f19421c1d4aa40978ebb69ca19b0e20d</td>\n",
       "      <td>[web, email, mobile, social]</td>\n",
       "      <td>5.0</td>\n",
       "      <td>120.0</td>\n",
       "      <td>bogo</td>\n",
       "      <td>0.0</td>\n",
       "      <td>33.0</td>\n",
       "      <td>M</td>\n",
       "      <td>0009655768c64bdeb2e877511632db8f</td>\n",
       "      <td>72000.0</td>\n",
       "      <td>2070.0</td>\n",
       "      <td>1</td>\n",
       "    </tr>\n",
       "    <tr>\n",
       "      <th>168413</th>\n",
       "      <td>offer completed</td>\n",
       "      <td>414</td>\n",
       "      <td>0.00</td>\n",
       "      <td>f19421c1d4aa40978ebb69ca19b0e20d</td>\n",
       "      <td>[web, email, mobile, social]</td>\n",
       "      <td>5.0</td>\n",
       "      <td>120.0</td>\n",
       "      <td>bogo</td>\n",
       "      <td>5.0</td>\n",
       "      <td>33.0</td>\n",
       "      <td>M</td>\n",
       "      <td>0009655768c64bdeb2e877511632db8f</td>\n",
       "      <td>72000.0</td>\n",
       "      <td>2070.0</td>\n",
       "      <td>0</td>\n",
       "    </tr>\n",
       "    <tr>\n",
       "      <th>168412</th>\n",
       "      <td>transaction</td>\n",
       "      <td>414</td>\n",
       "      <td>8.57</td>\n",
       "      <td>NaN</td>\n",
       "      <td>NaN</td>\n",
       "      <td>NaN</td>\n",
       "      <td>NaN</td>\n",
       "      <td>NaN</td>\n",
       "      <td>0.0</td>\n",
       "      <td>33.0</td>\n",
       "      <td>M</td>\n",
       "      <td>0009655768c64bdeb2e877511632db8f</td>\n",
       "      <td>72000.0</td>\n",
       "      <td>2070.0</td>\n",
       "      <td>3</td>\n",
       "    </tr>\n",
       "    <tr>\n",
       "      <th>187554</th>\n",
       "      <td>offer viewed</td>\n",
       "      <td>456</td>\n",
       "      <td>0.00</td>\n",
       "      <td>f19421c1d4aa40978ebb69ca19b0e20d</td>\n",
       "      <td>[web, email, mobile, social]</td>\n",
       "      <td>5.0</td>\n",
       "      <td>120.0</td>\n",
       "      <td>bogo</td>\n",
       "      <td>0.0</td>\n",
       "      <td>33.0</td>\n",
       "      <td>M</td>\n",
       "      <td>0009655768c64bdeb2e877511632db8f</td>\n",
       "      <td>72000.0</td>\n",
       "      <td>2070.0</td>\n",
       "      <td>2</td>\n",
       "    </tr>\n",
       "    <tr>\n",
       "      <th>204340</th>\n",
       "      <td>offer received</td>\n",
       "      <td>504</td>\n",
       "      <td>0.00</td>\n",
       "      <td>fafdcd668e3743c1bb461111dcafc2a4</td>\n",
       "      <td>[web, email, mobile, social]</td>\n",
       "      <td>10.0</td>\n",
       "      <td>240.0</td>\n",
       "      <td>discount</td>\n",
       "      <td>0.0</td>\n",
       "      <td>33.0</td>\n",
       "      <td>M</td>\n",
       "      <td>0009655768c64bdeb2e877511632db8f</td>\n",
       "      <td>72000.0</td>\n",
       "      <td>2070.0</td>\n",
       "      <td>1</td>\n",
       "    </tr>\n",
       "    <tr>\n",
       "      <th>228423</th>\n",
       "      <td>offer completed</td>\n",
       "      <td>528</td>\n",
       "      <td>0.00</td>\n",
       "      <td>fafdcd668e3743c1bb461111dcafc2a4</td>\n",
       "      <td>[web, email, mobile, social]</td>\n",
       "      <td>10.0</td>\n",
       "      <td>240.0</td>\n",
       "      <td>discount</td>\n",
       "      <td>2.0</td>\n",
       "      <td>33.0</td>\n",
       "      <td>M</td>\n",
       "      <td>0009655768c64bdeb2e877511632db8f</td>\n",
       "      <td>72000.0</td>\n",
       "      <td>2070.0</td>\n",
       "      <td>0</td>\n",
       "    </tr>\n",
       "    <tr>\n",
       "      <th>228422</th>\n",
       "      <td>transaction</td>\n",
       "      <td>528</td>\n",
       "      <td>14.11</td>\n",
       "      <td>NaN</td>\n",
       "      <td>NaN</td>\n",
       "      <td>NaN</td>\n",
       "      <td>NaN</td>\n",
       "      <td>NaN</td>\n",
       "      <td>0.0</td>\n",
       "      <td>33.0</td>\n",
       "      <td>M</td>\n",
       "      <td>0009655768c64bdeb2e877511632db8f</td>\n",
       "      <td>72000.0</td>\n",
       "      <td>2070.0</td>\n",
       "      <td>3</td>\n",
       "    </tr>\n",
       "    <tr>\n",
       "      <th>233413</th>\n",
       "      <td>offer viewed</td>\n",
       "      <td>540</td>\n",
       "      <td>0.00</td>\n",
       "      <td>fafdcd668e3743c1bb461111dcafc2a4</td>\n",
       "      <td>[web, email, mobile, social]</td>\n",
       "      <td>10.0</td>\n",
       "      <td>240.0</td>\n",
       "      <td>discount</td>\n",
       "      <td>0.0</td>\n",
       "      <td>33.0</td>\n",
       "      <td>M</td>\n",
       "      <td>0009655768c64bdeb2e877511632db8f</td>\n",
       "      <td>72000.0</td>\n",
       "      <td>2070.0</td>\n",
       "      <td>2</td>\n",
       "    </tr>\n",
       "    <tr>\n",
       "      <th>237784</th>\n",
       "      <td>transaction</td>\n",
       "      <td>552</td>\n",
       "      <td>13.56</td>\n",
       "      <td>NaN</td>\n",
       "      <td>NaN</td>\n",
       "      <td>NaN</td>\n",
       "      <td>NaN</td>\n",
       "      <td>NaN</td>\n",
       "      <td>0.0</td>\n",
       "      <td>33.0</td>\n",
       "      <td>M</td>\n",
       "      <td>0009655768c64bdeb2e877511632db8f</td>\n",
       "      <td>72000.0</td>\n",
       "      <td>2070.0</td>\n",
       "      <td>3</td>\n",
       "    </tr>\n",
       "    <tr>\n",
       "      <th>258884</th>\n",
       "      <td>offer completed</td>\n",
       "      <td>576</td>\n",
       "      <td>0.00</td>\n",
       "      <td>2906b810c7d4411798c6938adc9daaa5</td>\n",
       "      <td>[web, email, mobile]</td>\n",
       "      <td>10.0</td>\n",
       "      <td>168.0</td>\n",
       "      <td>discount</td>\n",
       "      <td>2.0</td>\n",
       "      <td>33.0</td>\n",
       "      <td>M</td>\n",
       "      <td>0009655768c64bdeb2e877511632db8f</td>\n",
       "      <td>72000.0</td>\n",
       "      <td>2070.0</td>\n",
       "      <td>0</td>\n",
       "    </tr>\n",
       "    <tr>\n",
       "      <th>247879</th>\n",
       "      <td>offer received</td>\n",
       "      <td>576</td>\n",
       "      <td>0.00</td>\n",
       "      <td>2906b810c7d4411798c6938adc9daaa5</td>\n",
       "      <td>[web, email, mobile]</td>\n",
       "      <td>10.0</td>\n",
       "      <td>168.0</td>\n",
       "      <td>discount</td>\n",
       "      <td>0.0</td>\n",
       "      <td>33.0</td>\n",
       "      <td>M</td>\n",
       "      <td>0009655768c64bdeb2e877511632db8f</td>\n",
       "      <td>72000.0</td>\n",
       "      <td>2070.0</td>\n",
       "      <td>1</td>\n",
       "    </tr>\n",
       "    <tr>\n",
       "      <th>258883</th>\n",
       "      <td>transaction</td>\n",
       "      <td>576</td>\n",
       "      <td>10.27</td>\n",
       "      <td>NaN</td>\n",
       "      <td>NaN</td>\n",
       "      <td>NaN</td>\n",
       "      <td>NaN</td>\n",
       "      <td>NaN</td>\n",
       "      <td>0.0</td>\n",
       "      <td>33.0</td>\n",
       "      <td>M</td>\n",
       "      <td>0009655768c64bdeb2e877511632db8f</td>\n",
       "      <td>72000.0</td>\n",
       "      <td>2070.0</td>\n",
       "      <td>3</td>\n",
       "    </tr>\n",
       "    <tr>\n",
       "      <th>293497</th>\n",
       "      <td>transaction</td>\n",
       "      <td>660</td>\n",
       "      <td>12.36</td>\n",
       "      <td>NaN</td>\n",
       "      <td>NaN</td>\n",
       "      <td>NaN</td>\n",
       "      <td>NaN</td>\n",
       "      <td>NaN</td>\n",
       "      <td>0.0</td>\n",
       "      <td>33.0</td>\n",
       "      <td>M</td>\n",
       "      <td>0009655768c64bdeb2e877511632db8f</td>\n",
       "      <td>72000.0</td>\n",
       "      <td>2070.0</td>\n",
       "      <td>3</td>\n",
       "    </tr>\n",
       "    <tr>\n",
       "      <th>300930</th>\n",
       "      <td>transaction</td>\n",
       "      <td>690</td>\n",
       "      <td>28.16</td>\n",
       "      <td>NaN</td>\n",
       "      <td>NaN</td>\n",
       "      <td>NaN</td>\n",
       "      <td>NaN</td>\n",
       "      <td>NaN</td>\n",
       "      <td>0.0</td>\n",
       "      <td>33.0</td>\n",
       "      <td>M</td>\n",
       "      <td>0009655768c64bdeb2e877511632db8f</td>\n",
       "      <td>72000.0</td>\n",
       "      <td>2070.0</td>\n",
       "      <td>3</td>\n",
       "    </tr>\n",
       "    <tr>\n",
       "      <th>302205</th>\n",
       "      <td>transaction</td>\n",
       "      <td>696</td>\n",
       "      <td>18.41</td>\n",
       "      <td>NaN</td>\n",
       "      <td>NaN</td>\n",
       "      <td>NaN</td>\n",
       "      <td>NaN</td>\n",
       "      <td>NaN</td>\n",
       "      <td>0.0</td>\n",
       "      <td>33.0</td>\n",
       "      <td>M</td>\n",
       "      <td>0009655768c64bdeb2e877511632db8f</td>\n",
       "      <td>72000.0</td>\n",
       "      <td>2070.0</td>\n",
       "      <td>3</td>\n",
       "    </tr>\n",
       "  </tbody>\n",
       "</table>\n",
       "</div>"
      ],
      "text/plain": [
       "                  event  time  amount                          id_offer  \\\n",
       "55972    offer received   168    0.00  5a8bc65990b245e5a138643cd4eb9837   \n",
       "77705      offer viewed   192    0.00  5a8bc65990b245e5a138643cd4eb9837   \n",
       "89291       transaction   228   22.16                               NaN   \n",
       "113605   offer received   336    0.00  3f207df678b143eea3cee63160fa8bed   \n",
       "139992     offer viewed   372    0.00  3f207df678b143eea3cee63160fa8bed   \n",
       "153401   offer received   408    0.00  f19421c1d4aa40978ebb69ca19b0e20d   \n",
       "168413  offer completed   414    0.00  f19421c1d4aa40978ebb69ca19b0e20d   \n",
       "168412      transaction   414    8.57                               NaN   \n",
       "187554     offer viewed   456    0.00  f19421c1d4aa40978ebb69ca19b0e20d   \n",
       "204340   offer received   504    0.00  fafdcd668e3743c1bb461111dcafc2a4   \n",
       "228423  offer completed   528    0.00  fafdcd668e3743c1bb461111dcafc2a4   \n",
       "228422      transaction   528   14.11                               NaN   \n",
       "233413     offer viewed   540    0.00  fafdcd668e3743c1bb461111dcafc2a4   \n",
       "237784      transaction   552   13.56                               NaN   \n",
       "258884  offer completed   576    0.00  2906b810c7d4411798c6938adc9daaa5   \n",
       "247879   offer received   576    0.00  2906b810c7d4411798c6938adc9daaa5   \n",
       "258883      transaction   576   10.27                               NaN   \n",
       "293497      transaction   660   12.36                               NaN   \n",
       "300930      transaction   690   28.16                               NaN   \n",
       "302205      transaction   696   18.41                               NaN   \n",
       "\n",
       "                            channels  difficulty  duration     offer_type  \\\n",
       "55972        [email, mobile, social]         0.0      72.0  informational   \n",
       "77705        [email, mobile, social]         0.0      72.0  informational   \n",
       "89291                            NaN         NaN       NaN            NaN   \n",
       "113605          [web, email, mobile]         0.0      96.0  informational   \n",
       "139992          [web, email, mobile]         0.0      96.0  informational   \n",
       "153401  [web, email, mobile, social]         5.0     120.0           bogo   \n",
       "168413  [web, email, mobile, social]         5.0     120.0           bogo   \n",
       "168412                           NaN         NaN       NaN            NaN   \n",
       "187554  [web, email, mobile, social]         5.0     120.0           bogo   \n",
       "204340  [web, email, mobile, social]        10.0     240.0       discount   \n",
       "228423  [web, email, mobile, social]        10.0     240.0       discount   \n",
       "228422                           NaN         NaN       NaN            NaN   \n",
       "233413  [web, email, mobile, social]        10.0     240.0       discount   \n",
       "237784                           NaN         NaN       NaN            NaN   \n",
       "258884          [web, email, mobile]        10.0     168.0       discount   \n",
       "247879          [web, email, mobile]        10.0     168.0       discount   \n",
       "258883                           NaN         NaN       NaN            NaN   \n",
       "293497                           NaN         NaN       NaN            NaN   \n",
       "300930                           NaN         NaN       NaN            NaN   \n",
       "302205                           NaN         NaN       NaN            NaN   \n",
       "\n",
       "        reward   age gender                       id_customer   income  \\\n",
       "55972      0.0  33.0      M  0009655768c64bdeb2e877511632db8f  72000.0   \n",
       "77705      0.0  33.0      M  0009655768c64bdeb2e877511632db8f  72000.0   \n",
       "89291      0.0  33.0      M  0009655768c64bdeb2e877511632db8f  72000.0   \n",
       "113605     0.0  33.0      M  0009655768c64bdeb2e877511632db8f  72000.0   \n",
       "139992     0.0  33.0      M  0009655768c64bdeb2e877511632db8f  72000.0   \n",
       "153401     0.0  33.0      M  0009655768c64bdeb2e877511632db8f  72000.0   \n",
       "168413     5.0  33.0      M  0009655768c64bdeb2e877511632db8f  72000.0   \n",
       "168412     0.0  33.0      M  0009655768c64bdeb2e877511632db8f  72000.0   \n",
       "187554     0.0  33.0      M  0009655768c64bdeb2e877511632db8f  72000.0   \n",
       "204340     0.0  33.0      M  0009655768c64bdeb2e877511632db8f  72000.0   \n",
       "228423     2.0  33.0      M  0009655768c64bdeb2e877511632db8f  72000.0   \n",
       "228422     0.0  33.0      M  0009655768c64bdeb2e877511632db8f  72000.0   \n",
       "233413     0.0  33.0      M  0009655768c64bdeb2e877511632db8f  72000.0   \n",
       "237784     0.0  33.0      M  0009655768c64bdeb2e877511632db8f  72000.0   \n",
       "258884     2.0  33.0      M  0009655768c64bdeb2e877511632db8f  72000.0   \n",
       "247879     0.0  33.0      M  0009655768c64bdeb2e877511632db8f  72000.0   \n",
       "258883     0.0  33.0      M  0009655768c64bdeb2e877511632db8f  72000.0   \n",
       "293497     0.0  33.0      M  0009655768c64bdeb2e877511632db8f  72000.0   \n",
       "300930     0.0  33.0      M  0009655768c64bdeb2e877511632db8f  72000.0   \n",
       "302205     0.0  33.0      M  0009655768c64bdeb2e877511632db8f  72000.0   \n",
       "\n",
       "        member_since  event_num  \n",
       "55972         2070.0          1  \n",
       "77705         2070.0          2  \n",
       "89291         2070.0          3  \n",
       "113605        2070.0          1  \n",
       "139992        2070.0          2  \n",
       "153401        2070.0          1  \n",
       "168413        2070.0          0  \n",
       "168412        2070.0          3  \n",
       "187554        2070.0          2  \n",
       "204340        2070.0          1  \n",
       "228423        2070.0          0  \n",
       "228422        2070.0          3  \n",
       "233413        2070.0          2  \n",
       "237784        2070.0          3  \n",
       "258884        2070.0          0  \n",
       "247879        2070.0          1  \n",
       "258883        2070.0          3  \n",
       "293497        2070.0          3  \n",
       "300930        2070.0          3  \n",
       "302205        2070.0          3  "
      ]
     },
     "execution_count": 36,
     "metadata": {},
     "output_type": "execute_result"
    }
   ],
   "source": [
    "df.head(20)"
   ]
  },
  {
   "cell_type": "code",
   "execution_count": 37,
   "metadata": {},
   "outputs": [],
   "source": [
    "# I apply the following logic to label effective offers\n",
    "# i) there needs to be a transaction\n",
    "# ii) transaction needs to happen in the given duration of the offer\n",
    "# iii) it needs to include the following events (in correct order): offer received, offer viewed, transaction\n",
    "\n",
    "# first drop duplicates, if any\n",
    "df = df.drop_duplicates(subset=df.columns.difference(['channels'])) # ignore column channels due to not matching data type\n",
    "\n",
    "# we do not care for the event 'offer completed'\n",
    "df = df[df.event_num > 0]\n",
    "\n",
    "# compute deadline for offer starting with time when offer received\n",
    "df[\"offer_threshold\"]=np.where(df['event']==\"offer received\", df['time']+df['duration'], float('nan'))\n",
    "# same deadline for the next event stept\n",
    "df.offer_threshold = df.offer_threshold.ffill()\n",
    "\n",
    "# fill NaN with data from events before of that customer\n",
    "df.update(df.groupby([\"id_customer\"]).ffill())\n",
    "\n",
    "# label offers as effective\n",
    "# only offers that go through the regular order of subsequent steps (event_num in ascending order) and which happen before end of deadline\n",
    "df[\"effective\"]=np.where((df['event_num'].shift(1)-df['event_num'] >= 0)| (abs(df['event_num'].shift(1)-df['event_num']) > 1)| (df.time > df.offer_threshold), 0, 1)\n",
    "\n",
    "# Since \"offer received\" is the first step, my previous step would always label it as ineffective (put back to effective by default)\n",
    "df[\"effective\"]=np.where(df['event']==\"offer received\", 1, df.effective)\n",
    "    "
   ]
  },
  {
   "cell_type": "code",
   "execution_count": 38,
   "metadata": {},
   "outputs": [],
   "source": [
    "for _, sub in df.groupby(['id_offer','id_customer']):\n",
    "    if (sub['event_num'].sum() < 6): # the customer / offer combination needs to at least include offer received, offer viewed and transaction\n",
    "        df.update(sub['effective'] * 0)"
   ]
  },
  {
   "cell_type": "code",
   "execution_count": 39,
   "metadata": {},
   "outputs": [],
   "source": [
    "for _, sub in df.groupby(['id_offer','id_customer']):\n",
    "    if (sub['effective'].sum() < 3): \n",
    "        df.update(sub['effective'] * 0)"
   ]
  },
  {
   "cell_type": "code",
   "execution_count": 41,
   "metadata": {},
   "outputs": [],
   "source": [
    "df_effective = df[df.event_num == 1].copy() # for each process, only consider first step; remaining events for the offer/customer combination only include redundant information\n",
    "df_effective.drop(columns=[\"time\",\"id_offer\", \"id_customer\", \"offer_threshold\", \"event_num\",\"duration\", \"event\", \"amount\", \"difficulty\"], inplace = True)"
   ]
  },
  {
   "cell_type": "code",
   "execution_count": 42,
   "metadata": {},
   "outputs": [
    {
     "data": {
      "image/png": "[encoded data removed]",
      "text/plain": [
       "<Figure size 360x360 with 1 Axes>"
      ]
     },
     "metadata": {},
     "output_type": "display_data"
    }
   ],
   "source": [
    "labels = ['Ineffective', 'Effective']\n",
    "ax = df_effective['effective'].value_counts().plot(kind='pie', figsize=(5, 5), autopct='%1.0f%%',labels=labels,title=\"Effective Offers\");\n",
    "ax.yaxis.set_visible(False)"
   ]
  },
  {
   "cell_type": "code",
   "execution_count": 43,
   "metadata": {},
   "outputs": [
    {
     "data": {
      "image/png": "[encoded data removed]",
      "text/plain": [
       "<Figure size 432x288 with 1 Axes>"
      ]
     },
     "metadata": {
      "needs_background": "light"
     },
     "output_type": "display_data"
    }
   ],
   "source": [
    "sns.violinplot(data=df_effective, x=\"effective\", y=\"member_since\");\n",
    "plt.ylabel('Member since [in days]');"
   ]
  },
  {
   "cell_type": "code",
   "execution_count": 44,
   "metadata": {},
   "outputs": [
    {
     "data": {
      "image/png": "[encoded data removed]",
      "text/plain": [
       "<Figure size 432x288 with 1 Axes>"
      ]
     },
     "metadata": {
      "needs_background": "light"
     },
     "output_type": "display_data"
    }
   ],
   "source": [
    "sns.scatterplot(data=df_effective, x=\"age\", y=\"income\", hue=\"effective\", s=200);\n",
    "plt.xlabel('Age');\n",
    "plt.ylabel('Income');\n",
    "plt.title(\"Age vs. Income by Effectiveness\");"
   ]
  },
  {
   "cell_type": "code",
   "execution_count": 45,
   "metadata": {},
   "outputs": [
    {
     "data": {
      "image/png": "[encoded data removed]",
      "text/plain": [
       "<Figure size 720x432 with 1 Axes>"
      ]
     },
     "metadata": {
      "needs_background": "light"
     },
     "output_type": "display_data"
    }
   ],
   "source": [
    "cross_tab_prop = pd.crosstab(index=df_effective['gender'],\n",
    "                             columns=df_effective['effective'],\n",
    "                             normalize=\"index\")\n",
    "cross_tab_prop.plot(kind='bar', \n",
    "                    stacked=True, \n",
    "                    #colormap='tab10', \n",
    "                    figsize=(10, 6))\n",
    "\n",
    "plt.legend(loc=\"upper left\", ncol=2)\n",
    "plt.xlabel(\"Gender\")\n",
    "plt.ylabel(\"Proportion\")\n",
    "plt.show()"
   ]
  },
  {
   "cell_type": "code",
   "execution_count": 46,
   "metadata": {},
   "outputs": [
    {
     "data": {
      "image/png": "[encoded data removed]",
      "text/plain": [
       "<Figure size 720x432 with 1 Axes>"
      ]
     },
     "metadata": {
      "needs_background": "light"
     },
     "output_type": "display_data"
    }
   ],
   "source": [
    "cross_tab_prop = pd.crosstab(index=df_effective['offer_type'],\n",
    "                             columns=df_effective['effective'],\n",
    "                             normalize=\"index\")\n",
    "cross_tab_prop.plot(kind='bar', \n",
    "                    stacked=True, \n",
    "                    #colormap='tab10', \n",
    "                    figsize=(10, 6))\n",
    "\n",
    "plt.legend(loc=\"upper left\", ncol=2)\n",
    "plt.xlabel(\"Offer Type\")\n",
    "plt.ylabel(\"Proportion\")\n",
    "plt.show()"
   ]
  },
  {
   "cell_type": "code",
   "execution_count": 47,
   "metadata": {},
   "outputs": [
    {
     "data": {
      "text/html": [
       "<div>\n",
       "<style scoped>\n",
       "    .dataframe tbody tr th:only-of-type {\n",
       "        vertical-align: middle;\n",
       "    }\n",
       "\n",
       "    .dataframe tbody tr th {\n",
       "        vertical-align: top;\n",
       "    }\n",
       "\n",
       "    .dataframe thead th {\n",
       "        text-align: right;\n",
       "    }\n",
       "</style>\n",
       "<table border=\"1\" class=\"dataframe\">\n",
       "  <thead>\n",
       "    <tr style=\"text-align: right;\">\n",
       "      <th></th>\n",
       "      <th>reward</th>\n",
       "      <th>age</th>\n",
       "      <th>income</th>\n",
       "      <th>member_since</th>\n",
       "    </tr>\n",
       "    <tr>\n",
       "      <th>effective</th>\n",
       "      <th></th>\n",
       "      <th></th>\n",
       "      <th></th>\n",
       "      <th></th>\n",
       "    </tr>\n",
       "  </thead>\n",
       "  <tbody>\n",
       "    <tr>\n",
       "      <th>0.0</th>\n",
       "      <td>0.0</td>\n",
       "      <td>54.515776</td>\n",
       "      <td>65602.239348</td>\n",
       "      <td>2085.026333</td>\n",
       "    </tr>\n",
       "    <tr>\n",
       "      <th>1.0</th>\n",
       "      <td>0.0</td>\n",
       "      <td>54.256389</td>\n",
       "      <td>65193.962304</td>\n",
       "      <td>2166.240336</td>\n",
       "    </tr>\n",
       "  </tbody>\n",
       "</table>\n",
       "</div>"
      ],
      "text/plain": [
       "           reward        age        income  member_since\n",
       "effective                                               \n",
       "0.0           0.0  54.515776  65602.239348   2085.026333\n",
       "1.0           0.0  54.256389  65193.962304   2166.240336"
      ]
     },
     "execution_count": 47,
     "metadata": {},
     "output_type": "execute_result"
    }
   ],
   "source": [
    "df_effective.groupby([\"effective\"]).mean()"
   ]
  },
  {
   "cell_type": "code",
   "execution_count": 48,
   "metadata": {},
   "outputs": [],
   "source": [
    "# create dummy variables for gender (easier to process afterwards in our model)\n",
    "df_effective = df_effective.join(pd.DataFrame(\n",
    "    pd.get_dummies(df_effective.gender.apply(pd.Series).stack()).sum(level=0), \n",
    "    index=df_effective.index, \n",
    "    columns=['F', 'M', 'O']\n",
    "))\n",
    "\n",
    "# drop channels col (redundant information otherwise)\n",
    "df_effective.drop(columns=['gender'],inplace=True)"
   ]
  },
  {
   "cell_type": "code",
   "execution_count": 49,
   "metadata": {},
   "outputs": [],
   "source": [
    "# create dummy variables for channel (easier to process afterwards in our model)\n",
    "df_effective = df_effective.join(pd.DataFrame(\n",
    "    pd.get_dummies(df_effective.channels.apply(pd.Series).stack()).sum(level=0), \n",
    "    index=df_effective.index, \n",
    "    columns=['email', 'mobile', 'social', 'web']\n",
    "))\n",
    "\n",
    "# drop channels col (redundant information otherwise)\n",
    "df_effective.drop(columns=['channels'],inplace=True)"
   ]
  },
  {
   "cell_type": "code",
   "execution_count": 50,
   "metadata": {},
   "outputs": [],
   "source": [
    "# create dummy for offer_type\n",
    "df_effective = df_effective.join(pd.DataFrame(\n",
    "    pd.get_dummies(df_effective.offer_type.apply(pd.Series).stack()).sum(level=0), \n",
    "    index=df_effective.index, \n",
    "    columns=['informational', 'bogo', 'discount']\n",
    "))\n",
    "\n",
    "# drop channels col (redundant information otherwise)\n",
    "df_effective.drop(columns=['offer_type'],inplace=True)"
   ]
  },
  {
   "cell_type": "code",
   "execution_count": 51,
   "metadata": {},
   "outputs": [
    {
     "data": {
      "text/html": [
       "<div>\n",
       "<style scoped>\n",
       "    .dataframe tbody tr th:only-of-type {\n",
       "        vertical-align: middle;\n",
       "    }\n",
       "\n",
       "    .dataframe tbody tr th {\n",
       "        vertical-align: top;\n",
       "    }\n",
       "\n",
       "    .dataframe thead th {\n",
       "        text-align: right;\n",
       "    }\n",
       "</style>\n",
       "<table border=\"1\" class=\"dataframe\">\n",
       "  <thead>\n",
       "    <tr style=\"text-align: right;\">\n",
       "      <th></th>\n",
       "      <th>reward</th>\n",
       "      <th>age</th>\n",
       "      <th>income</th>\n",
       "      <th>member_since</th>\n",
       "      <th>effective</th>\n",
       "      <th>F</th>\n",
       "      <th>M</th>\n",
       "      <th>O</th>\n",
       "      <th>email</th>\n",
       "      <th>mobile</th>\n",
       "      <th>social</th>\n",
       "      <th>web</th>\n",
       "      <th>informational</th>\n",
       "      <th>bogo</th>\n",
       "      <th>discount</th>\n",
       "    </tr>\n",
       "  </thead>\n",
       "  <tbody>\n",
       "    <tr>\n",
       "      <th>11905</th>\n",
       "      <td>0.0</td>\n",
       "      <td>53.0</td>\n",
       "      <td>59000.0</td>\n",
       "      <td>1794.0</td>\n",
       "      <td>1.0</td>\n",
       "      <td>0</td>\n",
       "      <td>1</td>\n",
       "      <td>0</td>\n",
       "      <td>1</td>\n",
       "      <td>1</td>\n",
       "      <td>1</td>\n",
       "      <td>1</td>\n",
       "      <td>0</td>\n",
       "      <td>0</td>\n",
       "      <td>1</td>\n",
       "    </tr>\n",
       "    <tr>\n",
       "      <th>817</th>\n",
       "      <td>0.0</td>\n",
       "      <td>57.0</td>\n",
       "      <td>83000.0</td>\n",
       "      <td>2382.0</td>\n",
       "      <td>1.0</td>\n",
       "      <td>0</td>\n",
       "      <td>1</td>\n",
       "      <td>0</td>\n",
       "      <td>1</td>\n",
       "      <td>1</td>\n",
       "      <td>1</td>\n",
       "      <td>1</td>\n",
       "      <td>0</td>\n",
       "      <td>0</td>\n",
       "      <td>1</td>\n",
       "    </tr>\n",
       "    <tr>\n",
       "      <th>202089</th>\n",
       "      <td>0.0</td>\n",
       "      <td>59.0</td>\n",
       "      <td>90000.0</td>\n",
       "      <td>1953.0</td>\n",
       "      <td>0.0</td>\n",
       "      <td>1</td>\n",
       "      <td>0</td>\n",
       "      <td>0</td>\n",
       "      <td>1</td>\n",
       "      <td>1</td>\n",
       "      <td>1</td>\n",
       "      <td>0</td>\n",
       "      <td>0</td>\n",
       "      <td>1</td>\n",
       "      <td>0</td>\n",
       "    </tr>\n",
       "  </tbody>\n",
       "</table>\n",
       "</div>"
      ],
      "text/plain": [
       "        reward   age   income  member_since  effective  F  M  O  email  \\\n",
       "11905      0.0  53.0  59000.0        1794.0        1.0  0  1  0      1   \n",
       "817        0.0  57.0  83000.0        2382.0        1.0  0  1  0      1   \n",
       "202089     0.0  59.0  90000.0        1953.0        0.0  1  0  0      1   \n",
       "\n",
       "        mobile  social  web  informational  bogo  discount  \n",
       "11905        1       1    1              0     0         1  \n",
       "817          1       1    1              0     0         1  \n",
       "202089       1       1    0              0     1         0  "
      ]
     },
     "execution_count": 51,
     "metadata": {},
     "output_type": "execute_result"
    }
   ],
   "source": [
    "df_effective.sample(3)"
   ]
  },
  {
   "cell_type": "markdown",
   "metadata": {},
   "source": [
    "# Build model"
   ]
  },
  {
   "cell_type": "code",
   "execution_count": 70,
   "metadata": {},
   "outputs": [],
   "source": [
    "#split the dataset into test and train sets.\n",
    "Y = df_effective.effective\n",
    "X = df_effective.drop(columns=[\"effective\"])\n",
    "X_train, X_test, y_train, y_test = train_test_split(X, Y, test_size=0.3, random_state=1)"
   ]
  },
  {
   "cell_type": "code",
   "execution_count": 72,
   "metadata": {},
   "outputs": [],
   "source": [
    "# Import the Random Forest Classifier\n",
    "from sklearn.ensemble import RandomForestClassifier\n",
    "from sklearn.metrics import accuracy_score, precision_score, recall_score, f1_score\n",
    "from sklearn.metrics import confusion_matrix"
   ]
  },
  {
   "cell_type": "code",
   "execution_count": 73,
   "metadata": {},
   "outputs": [],
   "source": [
    "# Instantiate a RandomForestClassifier with\n",
    "# 200 weak learners (n_estimators) \n",
    "rf = RandomForestClassifier(n_estimators = 200)"
   ]
  },
  {
   "cell_type": "code",
   "execution_count": 74,
   "metadata": {},
   "outputs": [
    {
     "data": {
      "text/plain": [
       "RandomForestClassifier(bootstrap=True, class_weight=None, criterion='gini',\n",
       "            max_depth=None, max_features='auto', max_leaf_nodes=None,\n",
       "            min_impurity_decrease=0.0, min_impurity_split=None,\n",
       "            min_samples_leaf=1, min_samples_split=2,\n",
       "            min_weight_fraction_leaf=0.0, n_estimators=200, n_jobs=1,\n",
       "            oob_score=False, random_state=None, verbose=0,\n",
       "            warm_start=False)"
      ]
     },
     "execution_count": 74,
     "metadata": {},
     "output_type": "execute_result"
    }
   ],
   "source": [
    "# Fit the RandomForestClassifier model\n",
    "rf.fit(X_train, y_train)"
   ]
  },
  {
   "cell_type": "code",
   "execution_count": 75,
   "metadata": {},
   "outputs": [],
   "source": [
    "# Call to test the model on the test data\n",
    "predictions = rf.predict(X_test)"
   ]
  },
  {
   "cell_type": "code",
   "execution_count": 76,
   "metadata": {},
   "outputs": [
    {
     "name": "stdout",
     "output_type": "stream",
     "text": [
      "Random Forest scores\n",
      "Accuracy score:  0.7250764372713148\n",
      "Precision score:  0.7336471352053238\n",
      "Recall score:  0.804055856977675\n",
      "F1 score:  0.7672395501803522\n"
     ]
    }
   ],
   "source": [
    "print('Random Forest scores')\n",
    "\n",
    "print('Accuracy score: ', format(accuracy_score(y_test, predictions)))\n",
    "print('Precision score: ', format(precision_score(y_test, predictions)))\n",
    "print('Recall score: ', format(recall_score(y_test, predictions)))\n",
    "print('F1 score: ', format(f1_score(y_test, predictions)))"
   ]
  },
  {
   "cell_type": "code",
   "execution_count": 77,
   "metadata": {},
   "outputs": [
    {
     "data": {
      "image/png": "[encoded data removed]",
      "text/plain": [
       "<Figure size 432x288 with 1 Axes>"
      ]
     },
     "metadata": {
      "needs_background": "light"
     },
     "output_type": "display_data"
    }
   ],
   "source": [
    "# used the following source to plot the feature importance: https://stackoverflow.com/questions/44101458/random-forest-feature-importance-chart-using-python\n",
    "features = X.columns\n",
    "importances = rf.feature_importances_\n",
    "indices = np.argsort(importances)\n",
    "\n",
    "plt.title('Feature Importances')\n",
    "plt.barh(range(len(indices)), importances[indices], color='indianred', align='center')\n",
    "plt.yticks(range(len(indices)), [features[i] for i in indices])\n",
    "plt.xlabel('Relative Importance')\n",
    "plt.show()"
   ]
  },
  {
   "cell_type": "code",
   "execution_count": 83,
   "metadata": {},
   "outputs": [
    {
     "name": "stdout",
     "output_type": "stream",
     "text": [
      "[[5426 3282]\n",
      " [2203 9040]]\n"
     ]
    }
   ],
   "source": [
    "conf_mat = confusion_matrix(y_test, predictions)\n",
    "print(conf_mat)"
   ]
  },
  {
   "cell_type": "code",
   "execution_count": 84,
   "metadata": {},
   "outputs": [
    {
     "name": "stdout",
     "output_type": "stream",
     "text": [
      "[[0.62310519 0.37689481]\n",
      " [0.19594414 0.80405586]]\n"
     ]
    }
   ],
   "source": [
    "conf_mat = conf_mat.astype('float') / conf_mat.sum(axis=1)[:, np.newaxis]\n",
    "print(conf_mat)"
   ]
  },
  {
   "cell_type": "code",
   "execution_count": 99,
   "metadata": {},
   "outputs": [
    {
     "data": {
      "image/png": "[encoded data removed]",
      "text/plain": [
       "<Figure size 576x288 with 2 Axes>"
      ]
     },
     "metadata": {},
     "output_type": "display_data"
    }
   ],
   "source": [
    "# Build the plot; Source: https://medium.com/analytics-vidhya/evaluating-a-random-forest-model-9d165595ad56\n",
    "plt.figure(figsize=(8,4))\n",
    "sns.set(font_scale=1.4)\n",
    "sns.heatmap(conf_mat, annot=True, annot_kws={'size':10},\n",
    "            cmap=\"Blues\", linewidths=0.2)\n",
    "\n",
    "# Add labels to the plot\n",
    "class_names = ['effective', 'ineffective']\n",
    "tick_marks = np.arange(len(class_names))\n",
    "tick_marks2 = tick_marks + 0.5\n",
    "plt.xticks(tick_marks, class_names, rotation=0)\n",
    "plt.yticks(tick_marks2, class_names, rotation=0)\n",
    "plt.xlabel('Predicted label')\n",
    "plt.ylabel('True label')\n",
    "plt.title('Confusion Matrix for Random Forest Model')\n",
    "plt.show()"
   ]
  },
  {
   "cell_type": "markdown",
   "metadata": {},
   "source": [
    "#### Tuning parameters"
   ]
  },
  {
   "cell_type": "markdown",
   "metadata": {},
   "source": [
    "##### n_estimators"
   ]
  },
  {
   "cell_type": "code",
   "execution_count": 59,
   "metadata": {},
   "outputs": [],
   "source": [
    "scores =[]\n",
    "for k in range(10, 300, 10):\n",
    "    rf_k = RandomForestClassifier(n_estimators=k)\n",
    "    rf_k.fit(X_train, y_train)\n",
    "    predictions = rf_k.predict(X_test)\n",
    "    scores.append(accuracy_score(y_test, predictions))"
   ]
  },
  {
   "cell_type": "code",
   "execution_count": 60,
   "metadata": {},
   "outputs": [],
   "source": [
    "max_score = max(scores) # highest accuracy\n",
    "max_score_index = scores.index(max_score) # index"
   ]
  },
  {
   "cell_type": "code",
   "execution_count": 61,
   "metadata": {},
   "outputs": [
    {
     "name": "stdout",
     "output_type": "stream",
     "text": [
      "Accuracy Score: 0.7271815949075234 with n_estimators: 190\n"
     ]
    }
   ],
   "source": [
    "print(f\"Accuracy Score: {max_score} with n_estimators: {(max_score_index+1)*10}\") # also correct that we start from 10 and have a step size of 10"
   ]
  },
  {
   "cell_type": "code",
   "execution_count": 62,
   "metadata": {},
   "outputs": [
    {
     "data": {
      "image/png": "[encoded data removed]",
      "text/plain": [
       "<Figure size 432x288 with 1 Axes>"
      ]
     },
     "metadata": {
      "needs_background": "light"
     },
     "output_type": "display_data"
    }
   ],
   "source": [
    "plt.title(\"Accuracy by number of estimators\")\n",
    "plt.xlabel(\"n_estimators\")\n",
    "plt.ylabel(\"accuracy\")\n",
    "plt.plot(range(10, 300,10), scores, color =\"indianred\")\n",
    "plt.show()"
   ]
  },
  {
   "cell_type": "markdown",
   "metadata": {},
   "source": [
    "##### Disable bootstrap"
   ]
  },
  {
   "cell_type": "code",
   "execution_count": 63,
   "metadata": {},
   "outputs": [
    {
     "name": "stdout",
     "output_type": "stream",
     "text": [
      "Accuracy score:  0.7094381234023357\n"
     ]
    }
   ],
   "source": [
    "rf_boot = RandomForestClassifier(n_estimators = 200, bootstrap = False) # disable bootstrapping\n",
    "rf_boot.fit(X_train, y_train)\n",
    "predictions = rf_boot.predict(X_test)\n",
    "print('Accuracy score: ', format(accuracy_score(y_test, predictions)))"
   ]
  },
  {
   "cell_type": "markdown",
   "metadata": {},
   "source": [
    "#### Adding features"
   ]
  },
  {
   "cell_type": "code",
   "execution_count": 64,
   "metadata": {},
   "outputs": [],
   "source": [
    "df_effective_new = df[df.event_num == 1].copy() # for each process, only consider first step; remaining events for the offer/customer combination only include redundant information\n",
    "df_effective_new.drop(columns=[\"id_offer\", \"id_customer\", \"offer_threshold\", \"event_num\",\"duration\", \"event\"], inplace = True)"
   ]
  },
  {
   "cell_type": "code",
   "execution_count": 65,
   "metadata": {},
   "outputs": [],
   "source": [
    "# create dummy variables for gender (easier to process afterwards in our model)\n",
    "df_effective_new = df_effective_new.join(pd.DataFrame(\n",
    "    pd.get_dummies(df_effective_new.gender.apply(pd.Series).stack()).sum(level=0), \n",
    "    index=df_effective_new.index, \n",
    "    columns=['F', 'M', 'O']\n",
    "))\n",
    "\n",
    "# drop channels col (redundant information otherwise)\n",
    "df_effective_new.drop(columns=['gender'],inplace=True)\n",
    "\n",
    "# create dummy variables for channel (easier to process afterwards in our model)\n",
    "df_effective_new = df_effective_new.join(pd.DataFrame(\n",
    "    pd.get_dummies(df_effective_new.channels.apply(pd.Series).stack()).sum(level=0), \n",
    "    index=df_effective_new.index, \n",
    "    columns=['email', 'mobile', 'social', 'web']\n",
    "))\n",
    "\n",
    "# drop channels col (redundant information otherwise)\n",
    "df_effective_new.drop(columns=['channels'],inplace=True)\n",
    "\n",
    "# create dummy for offer_type\n",
    "df_effective_new = df_effective_new.join(pd.DataFrame(\n",
    "    pd.get_dummies(df_effective_new.offer_type.apply(pd.Series).stack()).sum(level=0), \n",
    "    index=df_effective_new.index, \n",
    "    columns=['informational', 'bogo', 'discount']\n",
    "))\n",
    "\n",
    "# drop channels col (redundant information otherwise)\n",
    "df_effective_new.drop(columns=['offer_type'],inplace=True)"
   ]
  },
  {
   "cell_type": "code",
   "execution_count": 66,
   "metadata": {},
   "outputs": [],
   "source": [
    "#split the dataset into test and train sets.\n",
    "Y_new = df_effective_new.effective\n",
    "X_new = df_effective_new.drop(columns=[\"effective\"])\n",
    "X_train_new, X_test_new, y_train_new, y_test_new = train_test_split(X_new, Y_new, test_size=0.3, random_state=1)"
   ]
  },
  {
   "cell_type": "code",
   "execution_count": 67,
   "metadata": {},
   "outputs": [
    {
     "data": {
      "text/plain": [
       "RandomForestClassifier(bootstrap=True, class_weight=None, criterion='gini',\n",
       "            max_depth=None, max_features='auto', max_leaf_nodes=None,\n",
       "            min_impurity_decrease=0.0, min_impurity_split=None,\n",
       "            min_samples_leaf=1, min_samples_split=2,\n",
       "            min_weight_fraction_leaf=0.0, n_estimators=200, n_jobs=1,\n",
       "            oob_score=False, random_state=None, verbose=0,\n",
       "            warm_start=False)"
      ]
     },
     "execution_count": 67,
     "metadata": {},
     "output_type": "execute_result"
    }
   ],
   "source": [
    "rf_new = RandomForestClassifier(n_estimators = 200)\n",
    "rf_new.fit(X_train_new, y_train_new)"
   ]
  },
  {
   "cell_type": "code",
   "execution_count": 68,
   "metadata": {},
   "outputs": [],
   "source": [
    "predictions = rf_new.predict(X_test_new)"
   ]
  },
  {
   "cell_type": "code",
   "execution_count": 69,
   "metadata": {},
   "outputs": [
    {
     "name": "stdout",
     "output_type": "stream",
     "text": [
      "Accuracy score:  0.681870582928174\n"
     ]
    }
   ],
   "source": [
    "print('Accuracy score: ', format(accuracy_score(y_test_new, predictions)))"
   ]
  },
  {
   "cell_type": "code",
   "execution_count": null,
   "metadata": {},
   "outputs": [],
   "source": []
  }
 ],
 "metadata": {
  "kernelspec": {
   "display_name": "Python 3",
   "language": "python",
   "name": "python3"
  },
  "language_info": {
   "codemirror_mode": {
    "name": "ipython",
    "version": 3
   },
   "file_extension": ".py",
   "mimetype": "text/x-python",
   "name": "python",
   "nbconvert_exporter": "python",
   "pygments_lexer": "ipython3",
   "version": "3.6.3"
  }
 },
 "nbformat": 4,
 "nbformat_minor": 2
}
